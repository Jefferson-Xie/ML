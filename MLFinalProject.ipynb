{
  "nbformat": 4,
  "nbformat_minor": 0,
  "metadata": {
    "colab": {
      "name": "MLFinalProject.ipynb",
      "provenance": [],
      "collapsed_sections": []
    },
    "kernelspec": {
      "name": "python3",
      "display_name": "Python 3"
    },
    "language_info": {
      "name": "python"
    },
    "accelerator": "GPU"
  },
  "cells": [
    {
      "cell_type": "markdown",
      "source": [
        "#Final Project For CSCI 4050\n",
        "\n",
        "Start with imports"
      ],
      "metadata": {
        "id": "usJtkxEsbxxz"
      }
    },
    {
      "cell_type": "code",
      "execution_count": null,
      "metadata": {
        "id": "A2p_4HjKbtKd"
      },
      "outputs": [],
      "source": [
        "import tensorflow as tf\n",
        "import tensorflow.keras.models as models\n",
        "import tensorflow.keras.layers as layers\n",
        "import tensorflow.keras.losses as losses\n",
        "import tensorflow.keras.optimizers as optimizers\n",
        "from sklearn.preprocessing import MinMaxScaler\n",
        "import numpy as np\n",
        "import matplotlib.pyplot as pl\n",
        "import pandas as pd"
      ]
    },
    {
      "cell_type": "markdown",
      "source": [
        "Importing CSV data for tesla stock prices from past 5 years"
      ],
      "metadata": {
        "id": "BruG1Mxtg7-F"
      }
    },
    {
      "cell_type": "code",
      "source": [
        "url = 'https://raw.githubusercontent.com/Jefferson-Xie/ML/main/TSLA.csv'\n",
        "df = pd.read_csv(url)"
      ],
      "metadata": {
        "id": "ybxNtlB8cU3B"
      },
      "execution_count": null,
      "outputs": []
    },
    {
      "cell_type": "code",
      "source": [
        "# View head and tail of dataframe\n",
        "df.head()"
      ],
      "metadata": {
        "colab": {
          "base_uri": "https://localhost:8080/",
          "height": 206
        },
        "id": "H4zKOzWDhcPO",
        "outputId": "2cb67167-c1ed-4f82-d8ed-f83e4bbab2d0"
      },
      "execution_count": null,
      "outputs": [
        {
          "output_type": "execute_result",
          "data": {
            "text/html": [
              "<div>\n",
              "<style scoped>\n",
              "    .dataframe tbody tr th:only-of-type {\n",
              "        vertical-align: middle;\n",
              "    }\n",
              "\n",
              "    .dataframe tbody tr th {\n",
              "        vertical-align: top;\n",
              "    }\n",
              "\n",
              "    .dataframe thead th {\n",
              "        text-align: right;\n",
              "    }\n",
              "</style>\n",
              "<table border=\"1\" class=\"dataframe\">\n",
              "  <thead>\n",
              "    <tr style=\"text-align: right;\">\n",
              "      <th></th>\n",
              "      <th>Date</th>\n",
              "      <th>Open</th>\n",
              "      <th>High</th>\n",
              "      <th>Low</th>\n",
              "      <th>Close</th>\n",
              "      <th>Adj Close</th>\n",
              "      <th>Volume</th>\n",
              "    </tr>\n",
              "  </thead>\n",
              "  <tbody>\n",
              "    <tr>\n",
              "      <th>0</th>\n",
              "      <td>2016-12-12</td>\n",
              "      <td>192.800003</td>\n",
              "      <td>194.419998</td>\n",
              "      <td>191.039993</td>\n",
              "      <td>192.429993</td>\n",
              "      <td>192.429993</td>\n",
              "      <td>2438876</td>\n",
              "    </tr>\n",
              "    <tr>\n",
              "      <th>1</th>\n",
              "      <td>2016-12-13</td>\n",
              "      <td>193.179993</td>\n",
              "      <td>201.279999</td>\n",
              "      <td>193.000000</td>\n",
              "      <td>198.149994</td>\n",
              "      <td>198.149994</td>\n",
              "      <td>6823884</td>\n",
              "    </tr>\n",
              "    <tr>\n",
              "      <th>2</th>\n",
              "      <td>2016-12-14</td>\n",
              "      <td>198.740005</td>\n",
              "      <td>203.000000</td>\n",
              "      <td>196.759995</td>\n",
              "      <td>198.690002</td>\n",
              "      <td>198.690002</td>\n",
              "      <td>4150927</td>\n",
              "    </tr>\n",
              "    <tr>\n",
              "      <th>3</th>\n",
              "      <td>2016-12-15</td>\n",
              "      <td>198.410004</td>\n",
              "      <td>200.740005</td>\n",
              "      <td>197.389999</td>\n",
              "      <td>197.580002</td>\n",
              "      <td>197.580002</td>\n",
              "      <td>3219567</td>\n",
              "    </tr>\n",
              "    <tr>\n",
              "      <th>4</th>\n",
              "      <td>2016-12-16</td>\n",
              "      <td>198.080002</td>\n",
              "      <td>202.589996</td>\n",
              "      <td>197.600006</td>\n",
              "      <td>202.490005</td>\n",
              "      <td>202.490005</td>\n",
              "      <td>3796889</td>\n",
              "    </tr>\n",
              "  </tbody>\n",
              "</table>\n",
              "</div>"
            ],
            "text/plain": [
              "         Date        Open        High  ...       Close   Adj Close   Volume\n",
              "0  2016-12-12  192.800003  194.419998  ...  192.429993  192.429993  2438876\n",
              "1  2016-12-13  193.179993  201.279999  ...  198.149994  198.149994  6823884\n",
              "2  2016-12-14  198.740005  203.000000  ...  198.690002  198.690002  4150927\n",
              "3  2016-12-15  198.410004  200.740005  ...  197.580002  197.580002  3219567\n",
              "4  2016-12-16  198.080002  202.589996  ...  202.490005  202.490005  3796889\n",
              "\n",
              "[5 rows x 7 columns]"
            ]
          },
          "metadata": {},
          "execution_count": 3
        }
      ]
    },
    {
      "cell_type": "code",
      "source": [
        "df.tail()"
      ],
      "metadata": {
        "colab": {
          "base_uri": "https://localhost:8080/",
          "height": 206
        },
        "id": "fdZOovIPhizK",
        "outputId": "38b90dcf-ca69-4a49-9297-0e0c2de3081f"
      },
      "execution_count": null,
      "outputs": [
        {
          "output_type": "execute_result",
          "data": {
            "text/html": [
              "<div>\n",
              "<style scoped>\n",
              "    .dataframe tbody tr th:only-of-type {\n",
              "        vertical-align: middle;\n",
              "    }\n",
              "\n",
              "    .dataframe tbody tr th {\n",
              "        vertical-align: top;\n",
              "    }\n",
              "\n",
              "    .dataframe thead th {\n",
              "        text-align: right;\n",
              "    }\n",
              "</style>\n",
              "<table border=\"1\" class=\"dataframe\">\n",
              "  <thead>\n",
              "    <tr style=\"text-align: right;\">\n",
              "      <th></th>\n",
              "      <th>Date</th>\n",
              "      <th>Open</th>\n",
              "      <th>High</th>\n",
              "      <th>Low</th>\n",
              "      <th>Close</th>\n",
              "      <th>Adj Close</th>\n",
              "      <th>Volume</th>\n",
              "    </tr>\n",
              "  </thead>\n",
              "  <tbody>\n",
              "    <tr>\n",
              "      <th>1254</th>\n",
              "      <td>2021-12-06</td>\n",
              "      <td>1001.510010</td>\n",
              "      <td>1021.640015</td>\n",
              "      <td>950.500000</td>\n",
              "      <td>1009.010010</td>\n",
              "      <td>1009.010010</td>\n",
              "      <td>27221037</td>\n",
              "    </tr>\n",
              "    <tr>\n",
              "      <th>1255</th>\n",
              "      <td>2021-12-07</td>\n",
              "      <td>1044.199951</td>\n",
              "      <td>1057.673950</td>\n",
              "      <td>1026.810059</td>\n",
              "      <td>1051.750000</td>\n",
              "      <td>1051.750000</td>\n",
              "      <td>18694857</td>\n",
              "    </tr>\n",
              "    <tr>\n",
              "      <th>1256</th>\n",
              "      <td>2021-12-08</td>\n",
              "      <td>1052.709961</td>\n",
              "      <td>1072.380005</td>\n",
              "      <td>1033.000122</td>\n",
              "      <td>1068.959961</td>\n",
              "      <td>1068.959961</td>\n",
              "      <td>13968790</td>\n",
              "    </tr>\n",
              "    <tr>\n",
              "      <th>1257</th>\n",
              "      <td>2021-12-09</td>\n",
              "      <td>1060.640015</td>\n",
              "      <td>1062.489990</td>\n",
              "      <td>1002.359985</td>\n",
              "      <td>1003.799988</td>\n",
              "      <td>1003.799988</td>\n",
              "      <td>19446486</td>\n",
              "    </tr>\n",
              "    <tr>\n",
              "      <th>1258</th>\n",
              "      <td>2021-12-10</td>\n",
              "      <td>1008.750000</td>\n",
              "      <td>1020.979675</td>\n",
              "      <td>982.530029</td>\n",
              "      <td>1017.030029</td>\n",
              "      <td>1017.030029</td>\n",
              "      <td>19229185</td>\n",
              "    </tr>\n",
              "  </tbody>\n",
              "</table>\n",
              "</div>"
            ],
            "text/plain": [
              "            Date         Open         High  ...        Close    Adj Close    Volume\n",
              "1254  2021-12-06  1001.510010  1021.640015  ...  1009.010010  1009.010010  27221037\n",
              "1255  2021-12-07  1044.199951  1057.673950  ...  1051.750000  1051.750000  18694857\n",
              "1256  2021-12-08  1052.709961  1072.380005  ...  1068.959961  1068.959961  13968790\n",
              "1257  2021-12-09  1060.640015  1062.489990  ...  1003.799988  1003.799988  19446486\n",
              "1258  2021-12-10  1008.750000  1020.979675  ...  1017.030029  1017.030029  19229185\n",
              "\n",
              "[5 rows x 7 columns]"
            ]
          },
          "metadata": {},
          "execution_count": 4
        }
      ]
    },
    {
      "cell_type": "code",
      "source": [
        "# For simplicity, I will be using only the closing price; but for a more \"accurate\" model, a combination of open, high, low, and close can be used then combined\n",
        "df_close = df.reset_index()['Close']"
      ],
      "metadata": {
        "id": "qBoTBodkhpLg"
      },
      "execution_count": null,
      "outputs": []
    },
    {
      "cell_type": "code",
      "source": [
        "print(np.array(df_close)[:, np.newaxis])"
      ],
      "metadata": {
        "colab": {
          "base_uri": "https://localhost:8080/"
        },
        "id": "RuhiTe3S-XIo",
        "outputId": "3ffce31b-90b8-4332-ec5f-a2d587c6ad99"
      },
      "execution_count": null,
      "outputs": [
        {
          "output_type": "stream",
          "name": "stdout",
          "text": [
            "[[ 192.429993]\n",
            " [ 198.149994]\n",
            " [ 198.690002]\n",
            " ...\n",
            " [1068.959961]\n",
            " [1003.799988]\n",
            " [1017.030029]]\n"
          ]
        }
      ]
    },
    {
      "cell_type": "code",
      "source": [
        "df_close.shape"
      ],
      "metadata": {
        "colab": {
          "base_uri": "https://localhost:8080/"
        },
        "id": "9a75uzaGjSl-",
        "outputId": "df211154-6d36-4869-8480-727c164c2b9b"
      },
      "execution_count": null,
      "outputs": [
        {
          "output_type": "execute_result",
          "data": {
            "text/plain": [
              "(1259,)"
            ]
          },
          "metadata": {},
          "execution_count": 7
        }
      ]
    },
    {
      "cell_type": "code",
      "source": [
        "# Initial View\n",
        "pl.plot(df_close)"
      ],
      "metadata": {
        "colab": {
          "base_uri": "https://localhost:8080/",
          "height": 282
        },
        "id": "zLoBBcuBj9gT",
        "outputId": "a039b779-2a14-44e6-b3e5-dfa14e1ff3d9"
      },
      "execution_count": null,
      "outputs": [
        {
          "output_type": "execute_result",
          "data": {
            "text/plain": [
              "[<matplotlib.lines.Line2D at 0x7ff369881250>]"
            ]
          },
          "metadata": {},
          "execution_count": 8
        },
        {
          "output_type": "display_data",
          "data": {
            "image/png": "[encoded data removed]",
            "text/plain": [
              "<Figure size 432x288 with 1 Axes>"
            ]
          },
          "metadata": {
            "needs_background": "light"
          }
        }
      ]
    },
    {
      "cell_type": "markdown",
      "source": [
        "#Preprocessing\n",
        "As discussed in lab4, data needs to be normalized between ranges for [-1,1] for machine learning to work well."
      ],
      "metadata": {
        "id": "SqIDw1WLjjHg"
      }
    },
    {
      "cell_type": "code",
      "source": [
        "# Split the data into training and test data\n",
        "train_size = int(len(df_close)*0.8)\n",
        "test_size = len(df_close)-train_size\n",
        "train_split,test_split = df_close[0:train_size], df_close[train_size:len(df_close)]\n",
        "\n",
        "# Apply Normalization to both\n",
        "scaler = MinMaxScaler(feature_range=(0,1))\n",
        "train_data, test_data = scaler.fit_transform(np.array(train_split).reshape(-1,1)), scaler.fit_transform(np.array(test_split).reshape(-1,1))"
      ],
      "metadata": {
        "id": "z1q8g3pIjgMO"
      },
      "execution_count": null,
      "outputs": []
    },
    {
      "cell_type": "code",
      "source": [
        "train_data.shape, test_data.shape"
      ],
      "metadata": {
        "colab": {
          "base_uri": "https://localhost:8080/"
        },
        "id": "Mgk-l2I5oFX6",
        "outputId": "793e14f7-ef6f-42b4-93f8-ddbebffd3507"
      },
      "execution_count": null,
      "outputs": [
        {
          "output_type": "execute_result",
          "data": {
            "text/plain": [
              "((1007, 1), (252, 1))"
            ]
          },
          "metadata": {},
          "execution_count": 10
        }
      ]
    },
    {
      "cell_type": "markdown",
      "source": [
        "Next we need to convert array into useable dataset. Method to create dataset matrix taken from: https://machinelearningmastery.com/time-series-prediction-with-deep-learning-in-python-with-keras/"
      ],
      "metadata": {
        "id": "R1L8MZTepn30"
      }
    },
    {
      "cell_type": "code",
      "source": [
        "def create_dataset(dataset, look_back=1):\n",
        "\tdataX, dataY = [], []\n",
        "\tfor i in range(len(dataset)-look_back-1):\n",
        "\t\ta = dataset[i:(i+look_back), 0]\n",
        "\t\tdataX.append(a)\n",
        "\t\tdataY.append(dataset[i + look_back, 0])\n",
        "\treturn np.array(dataX), np.array(dataY)"
      ],
      "metadata": {
        "id": "u63Ye_9vrqut"
      },
      "execution_count": null,
      "outputs": []
    },
    {
      "cell_type": "code",
      "source": [
        "# Use function to convert data into matrix\n",
        "step = 100\n",
        "x_train , y_train = create_dataset(train_data, step)\n",
        "x_test, y_test = create_dataset(test_data, step)\n",
        "\n",
        "print(x_train.shape), print(y_train.shape)\n",
        "print(x_test.shape), print(y_test.shape)"
      ],
      "metadata": {
        "colab": {
          "base_uri": "https://localhost:8080/"
        },
        "id": "sexxNJILsZla",
        "outputId": "0826405f-fef1-4f68-a7d7-ef9329c14b3f"
      },
      "execution_count": null,
      "outputs": [
        {
          "output_type": "stream",
          "name": "stdout",
          "text": [
            "(906, 100)\n",
            "(906,)\n",
            "(151, 100)\n",
            "(151,)\n"
          ]
        },
        {
          "output_type": "execute_result",
          "data": {
            "text/plain": [
              "(None, None)"
            ]
          },
          "metadata": {},
          "execution_count": 12
        }
      ]
    },
    {
      "cell_type": "code",
      "source": [
        "# Next data needs to be reshaped to fit LSTM. \n",
        "x_train = x_train.reshape(x_train.shape[0], x_train.shape[1], 1)\n",
        "x_test = x_test.reshape(x_test.shape[0], x_test.shape[1], 1)"
      ],
      "metadata": {
        "id": "kXJIB73Ms550"
      },
      "execution_count": null,
      "outputs": []
    },
    {
      "cell_type": "markdown",
      "source": [
        "#Create Model\n"
      ],
      "metadata": {
        "id": "NvBZ2hK_vSfh"
      }
    },
    {
      "cell_type": "code",
      "source": [
        "model = models.Sequential([\n",
        "    layers.Input(shape=(100,1)),\n",
        "    layers.LSTM(50, return_sequences=True),\n",
        "    layers.LSTM(50, return_sequences=True, recurrent_dropout=0.2),\n",
        "    layers.LSTM(50),\n",
        "    layers.Dropout(0.2),\n",
        "    layers.Dense(50),\n",
        "    layers.Dense(1),\n",
        "])"
      ],
      "metadata": {
        "id": "WkCmLl5Ivk_Y"
      },
      "execution_count": null,
      "outputs": []
    },
    {
      "cell_type": "code",
      "source": [
        "model.compile(\n",
        "    loss = losses.MeanSquaredError(),\n",
        "    optimizer = optimizers.Adam(),\n",
        "    metrics = ['mean_squared_error'],\n",
        ")\n",
        "model.summary()"
      ],
      "metadata": {
        "colab": {
          "base_uri": "https://localhost:8080/"
        },
        "id": "Q9Dqr2pKydZP",
        "outputId": "d1010600-275a-4e81-fb66-80ab6c25fb0e"
      },
      "execution_count": null,
      "outputs": [
        {
          "output_type": "stream",
          "name": "stdout",
          "text": [
            "Model: \"sequential\"\n",
            "_________________________________________________________________\n",
            " Layer (type)                Output Shape              Param #   \n",
            "=================================================================\n",
            " lstm (LSTM)                 (None, 100, 50)           10400     \n",
            "                                                                 \n",
            " lstm_1 (LSTM)               (None, 100, 50)           20200     \n",
            "                                                                 \n",
            " lstm_2 (LSTM)               (None, 50)                20200     \n",
            "                                                                 \n",
            " dropout (Dropout)           (None, 50)                0         \n",
            "                                                                 \n",
            " dense (Dense)               (None, 50)                2550      \n",
            "                                                                 \n",
            " dense_1 (Dense)             (None, 1)                 51        \n",
            "                                                                 \n",
            "=================================================================\n",
            "Total params: 53,401\n",
            "Trainable params: 53,401\n",
            "Non-trainable params: 0\n",
            "_________________________________________________________________\n"
          ]
        }
      ]
    },
    {
      "cell_type": "code",
      "source": [
        "model.fit(x_train, y_train, batch_size=64, epochs=200, verbose=2)"
      ],
      "metadata": {
        "colab": {
          "base_uri": "https://localhost:8080/"
        },
        "id": "KFMI6Fv5yyOL",
        "outputId": "59903944-3666-47fb-8054-6f8ca0620eab"
      },
      "execution_count": null,
      "outputs": [
        {
          "output_type": "stream",
          "name": "stdout",
          "text": [
            "Epoch 1/200\n",
            "15/15 - 10s - loss: 0.0287 - mean_squared_error: 0.0287 - 10s/epoch - 645ms/step\n",
            "Epoch 2/200\n",
            "15/15 - 3s - loss: 0.0092 - mean_squared_error: 0.0092 - 3s/epoch - 231ms/step\n",
            "Epoch 3/200\n",
            "15/15 - 3s - loss: 0.0078 - mean_squared_error: 0.0078 - 3s/epoch - 227ms/step\n",
            "Epoch 4/200\n",
            "15/15 - 3s - loss: 0.0062 - mean_squared_error: 0.0062 - 3s/epoch - 229ms/step\n",
            "Epoch 5/200\n",
            "15/15 - 3s - loss: 0.0054 - mean_squared_error: 0.0054 - 3s/epoch - 231ms/step\n",
            "Epoch 6/200\n",
            "15/15 - 3s - loss: 0.0058 - mean_squared_error: 0.0058 - 3s/epoch - 227ms/step\n",
            "Epoch 7/200\n",
            "15/15 - 3s - loss: 0.0053 - mean_squared_error: 0.0053 - 3s/epoch - 228ms/step\n",
            "Epoch 8/200\n",
            "15/15 - 3s - loss: 0.0050 - mean_squared_error: 0.0050 - 3s/epoch - 230ms/step\n",
            "Epoch 9/200\n",
            "15/15 - 3s - loss: 0.0044 - mean_squared_error: 0.0044 - 3s/epoch - 227ms/step\n",
            "Epoch 10/200\n",
            "15/15 - 3s - loss: 0.0041 - mean_squared_error: 0.0041 - 3s/epoch - 233ms/step\n",
            "Epoch 11/200\n",
            "15/15 - 3s - loss: 0.0043 - mean_squared_error: 0.0043 - 3s/epoch - 229ms/step\n",
            "Epoch 12/200\n",
            "15/15 - 3s - loss: 0.0040 - mean_squared_error: 0.0040 - 3s/epoch - 229ms/step\n",
            "Epoch 13/200\n",
            "15/15 - 3s - loss: 0.0037 - mean_squared_error: 0.0037 - 3s/epoch - 230ms/step\n",
            "Epoch 14/200\n",
            "15/15 - 3s - loss: 0.0038 - mean_squared_error: 0.0038 - 3s/epoch - 228ms/step\n",
            "Epoch 15/200\n",
            "15/15 - 3s - loss: 0.0034 - mean_squared_error: 0.0034 - 3s/epoch - 232ms/step\n",
            "Epoch 16/200\n",
            "15/15 - 3s - loss: 0.0025 - mean_squared_error: 0.0025 - 3s/epoch - 229ms/step\n",
            "Epoch 17/200\n",
            "15/15 - 3s - loss: 0.0036 - mean_squared_error: 0.0036 - 3s/epoch - 230ms/step\n",
            "Epoch 18/200\n",
            "15/15 - 3s - loss: 0.0026 - mean_squared_error: 0.0026 - 3s/epoch - 228ms/step\n",
            "Epoch 19/200\n",
            "15/15 - 3s - loss: 0.0028 - mean_squared_error: 0.0028 - 3s/epoch - 229ms/step\n",
            "Epoch 20/200\n",
            "15/15 - 3s - loss: 0.0027 - mean_squared_error: 0.0027 - 3s/epoch - 231ms/step\n",
            "Epoch 21/200\n",
            "15/15 - 3s - loss: 0.0024 - mean_squared_error: 0.0024 - 3s/epoch - 231ms/step\n",
            "Epoch 22/200\n",
            "15/15 - 3s - loss: 0.0021 - mean_squared_error: 0.0021 - 3s/epoch - 227ms/step\n",
            "Epoch 23/200\n",
            "15/15 - 3s - loss: 0.0027 - mean_squared_error: 0.0027 - 3s/epoch - 233ms/step\n",
            "Epoch 24/200\n",
            "15/15 - 3s - loss: 0.0019 - mean_squared_error: 0.0019 - 3s/epoch - 231ms/step\n",
            "Epoch 25/200\n",
            "15/15 - 3s - loss: 0.0017 - mean_squared_error: 0.0017 - 3s/epoch - 230ms/step\n",
            "Epoch 26/200\n",
            "15/15 - 3s - loss: 0.0018 - mean_squared_error: 0.0018 - 3s/epoch - 229ms/step\n",
            "Epoch 27/200\n",
            "15/15 - 3s - loss: 0.0019 - mean_squared_error: 0.0019 - 3s/epoch - 228ms/step\n",
            "Epoch 28/200\n",
            "15/15 - 4s - loss: 0.0025 - mean_squared_error: 0.0025 - 4s/epoch - 236ms/step\n",
            "Epoch 29/200\n",
            "15/15 - 3s - loss: 0.0021 - mean_squared_error: 0.0021 - 3s/epoch - 229ms/step\n",
            "Epoch 30/200\n",
            "15/15 - 3s - loss: 0.0018 - mean_squared_error: 0.0018 - 3s/epoch - 233ms/step\n",
            "Epoch 31/200\n",
            "15/15 - 3s - loss: 0.0022 - mean_squared_error: 0.0022 - 3s/epoch - 233ms/step\n",
            "Epoch 32/200\n",
            "15/15 - 4s - loss: 0.0016 - mean_squared_error: 0.0016 - 4s/epoch - 235ms/step\n",
            "Epoch 33/200\n",
            "15/15 - 3s - loss: 0.0018 - mean_squared_error: 0.0018 - 3s/epoch - 230ms/step\n",
            "Epoch 34/200\n",
            "15/15 - 3s - loss: 0.0018 - mean_squared_error: 0.0018 - 3s/epoch - 232ms/step\n",
            "Epoch 35/200\n",
            "15/15 - 3s - loss: 0.0020 - mean_squared_error: 0.0020 - 3s/epoch - 230ms/step\n",
            "Epoch 36/200\n",
            "15/15 - 3s - loss: 0.0020 - mean_squared_error: 0.0020 - 3s/epoch - 229ms/step\n",
            "Epoch 37/200\n",
            "15/15 - 3s - loss: 0.0020 - mean_squared_error: 0.0020 - 3s/epoch - 230ms/step\n",
            "Epoch 38/200\n",
            "15/15 - 3s - loss: 0.0019 - mean_squared_error: 0.0019 - 3s/epoch - 231ms/step\n",
            "Epoch 39/200\n",
            "15/15 - 4s - loss: 0.0016 - mean_squared_error: 0.0016 - 4s/epoch - 236ms/step\n",
            "Epoch 40/200\n",
            "15/15 - 3s - loss: 0.0018 - mean_squared_error: 0.0018 - 3s/epoch - 230ms/step\n",
            "Epoch 41/200\n",
            "15/15 - 3s - loss: 0.0016 - mean_squared_error: 0.0016 - 3s/epoch - 232ms/step\n",
            "Epoch 42/200\n",
            "15/15 - 4s - loss: 0.0016 - mean_squared_error: 0.0016 - 4s/epoch - 234ms/step\n",
            "Epoch 43/200\n",
            "15/15 - 3s - loss: 0.0016 - mean_squared_error: 0.0016 - 3s/epoch - 231ms/step\n",
            "Epoch 44/200\n",
            "15/15 - 4s - loss: 0.0017 - mean_squared_error: 0.0017 - 4s/epoch - 234ms/step\n",
            "Epoch 45/200\n",
            "15/15 - 4s - loss: 0.0017 - mean_squared_error: 0.0017 - 4s/epoch - 235ms/step\n",
            "Epoch 46/200\n",
            "15/15 - 4s - loss: 0.0016 - mean_squared_error: 0.0016 - 4s/epoch - 238ms/step\n",
            "Epoch 47/200\n",
            "15/15 - 3s - loss: 0.0017 - mean_squared_error: 0.0017 - 3s/epoch - 230ms/step\n",
            "Epoch 48/200\n",
            "15/15 - 3s - loss: 0.0015 - mean_squared_error: 0.0015 - 3s/epoch - 229ms/step\n",
            "Epoch 49/200\n",
            "15/15 - 4s - loss: 0.0017 - mean_squared_error: 0.0017 - 4s/epoch - 235ms/step\n",
            "Epoch 50/200\n",
            "15/15 - 3s - loss: 0.0015 - mean_squared_error: 0.0015 - 3s/epoch - 231ms/step\n",
            "Epoch 51/200\n",
            "15/15 - 4s - loss: 0.0016 - mean_squared_error: 0.0016 - 4s/epoch - 237ms/step\n",
            "Epoch 52/200\n",
            "15/15 - 3s - loss: 0.0018 - mean_squared_error: 0.0018 - 3s/epoch - 227ms/step\n",
            "Epoch 53/200\n",
            "15/15 - 3s - loss: 0.0015 - mean_squared_error: 0.0015 - 3s/epoch - 232ms/step\n",
            "Epoch 54/200\n",
            "15/15 - 3s - loss: 0.0018 - mean_squared_error: 0.0018 - 3s/epoch - 229ms/step\n",
            "Epoch 55/200\n",
            "15/15 - 3s - loss: 0.0017 - mean_squared_error: 0.0017 - 3s/epoch - 232ms/step\n",
            "Epoch 56/200\n",
            "15/15 - 3s - loss: 0.0016 - mean_squared_error: 0.0016 - 3s/epoch - 232ms/step\n",
            "Epoch 57/200\n",
            "15/15 - 3s - loss: 0.0015 - mean_squared_error: 0.0015 - 3s/epoch - 229ms/step\n",
            "Epoch 58/200\n",
            "15/15 - 3s - loss: 0.0014 - mean_squared_error: 0.0014 - 3s/epoch - 229ms/step\n",
            "Epoch 59/200\n",
            "15/15 - 3s - loss: 0.0017 - mean_squared_error: 0.0017 - 3s/epoch - 230ms/step\n",
            "Epoch 60/200\n",
            "15/15 - 4s - loss: 0.0015 - mean_squared_error: 0.0015 - 4s/epoch - 235ms/step\n",
            "Epoch 61/200\n",
            "15/15 - 3s - loss: 0.0020 - mean_squared_error: 0.0020 - 3s/epoch - 229ms/step\n",
            "Epoch 62/200\n",
            "15/15 - 3s - loss: 0.0014 - mean_squared_error: 0.0014 - 3s/epoch - 230ms/step\n",
            "Epoch 63/200\n",
            "15/15 - 4s - loss: 0.0019 - mean_squared_error: 0.0019 - 4s/epoch - 234ms/step\n",
            "Epoch 64/200\n",
            "15/15 - 4s - loss: 0.0018 - mean_squared_error: 0.0018 - 4s/epoch - 234ms/step\n",
            "Epoch 65/200\n",
            "15/15 - 3s - loss: 0.0014 - mean_squared_error: 0.0014 - 3s/epoch - 232ms/step\n",
            "Epoch 66/200\n",
            "15/15 - 4s - loss: 0.0016 - mean_squared_error: 0.0016 - 4s/epoch - 234ms/step\n",
            "Epoch 67/200\n",
            "15/15 - 3s - loss: 0.0015 - mean_squared_error: 0.0015 - 3s/epoch - 231ms/step\n",
            "Epoch 68/200\n",
            "15/15 - 3s - loss: 0.0016 - mean_squared_error: 0.0016 - 3s/epoch - 232ms/step\n",
            "Epoch 69/200\n",
            "15/15 - 4s - loss: 0.0017 - mean_squared_error: 0.0017 - 4s/epoch - 234ms/step\n",
            "Epoch 70/200\n",
            "15/15 - 3s - loss: 0.0016 - mean_squared_error: 0.0016 - 3s/epoch - 232ms/step\n",
            "Epoch 71/200\n",
            "15/15 - 3s - loss: 0.0012 - mean_squared_error: 0.0012 - 3s/epoch - 230ms/step\n",
            "Epoch 72/200\n",
            "15/15 - 3s - loss: 0.0016 - mean_squared_error: 0.0016 - 3s/epoch - 228ms/step\n",
            "Epoch 73/200\n",
            "15/15 - 3s - loss: 0.0016 - mean_squared_error: 0.0016 - 3s/epoch - 230ms/step\n",
            "Epoch 74/200\n",
            "15/15 - 3s - loss: 0.0016 - mean_squared_error: 0.0016 - 3s/epoch - 230ms/step\n",
            "Epoch 75/200\n",
            "15/15 - 3s - loss: 0.0015 - mean_squared_error: 0.0015 - 3s/epoch - 233ms/step\n",
            "Epoch 76/200\n",
            "15/15 - 4s - loss: 0.0017 - mean_squared_error: 0.0017 - 4s/epoch - 236ms/step\n",
            "Epoch 77/200\n",
            "15/15 - 4s - loss: 0.0016 - mean_squared_error: 0.0016 - 4s/epoch - 271ms/step\n",
            "Epoch 78/200\n",
            "15/15 - 4s - loss: 0.0014 - mean_squared_error: 0.0014 - 4s/epoch - 290ms/step\n",
            "Epoch 79/200\n",
            "15/15 - 4s - loss: 0.0014 - mean_squared_error: 0.0014 - 4s/epoch - 255ms/step\n",
            "Epoch 80/200\n",
            "15/15 - 3s - loss: 0.0014 - mean_squared_error: 0.0014 - 3s/epoch - 232ms/step\n",
            "Epoch 81/200\n",
            "15/15 - 3s - loss: 0.0013 - mean_squared_error: 0.0013 - 3s/epoch - 230ms/step\n",
            "Epoch 82/200\n",
            "15/15 - 3s - loss: 0.0014 - mean_squared_error: 0.0014 - 3s/epoch - 228ms/step\n",
            "Epoch 83/200\n",
            "15/15 - 4s - loss: 0.0014 - mean_squared_error: 0.0014 - 4s/epoch - 234ms/step\n",
            "Epoch 84/200\n",
            "15/15 - 3s - loss: 0.0014 - mean_squared_error: 0.0014 - 3s/epoch - 230ms/step\n",
            "Epoch 85/200\n",
            "15/15 - 4s - loss: 0.0015 - mean_squared_error: 0.0015 - 4s/epoch - 235ms/step\n",
            "Epoch 86/200\n",
            "15/15 - 3s - loss: 0.0018 - mean_squared_error: 0.0018 - 3s/epoch - 231ms/step\n",
            "Epoch 87/200\n",
            "15/15 - 4s - loss: 0.0016 - mean_squared_error: 0.0016 - 4s/epoch - 236ms/step\n",
            "Epoch 88/200\n",
            "15/15 - 4s - loss: 0.0013 - mean_squared_error: 0.0013 - 4s/epoch - 234ms/step\n",
            "Epoch 89/200\n",
            "15/15 - 4s - loss: 0.0014 - mean_squared_error: 0.0014 - 4s/epoch - 236ms/step\n",
            "Epoch 90/200\n",
            "15/15 - 3s - loss: 0.0016 - mean_squared_error: 0.0016 - 3s/epoch - 231ms/step\n",
            "Epoch 91/200\n",
            "15/15 - 3s - loss: 0.0015 - mean_squared_error: 0.0015 - 3s/epoch - 230ms/step\n",
            "Epoch 92/200\n",
            "15/15 - 4s - loss: 0.0017 - mean_squared_error: 0.0017 - 4s/epoch - 237ms/step\n",
            "Epoch 93/200\n",
            "15/15 - 3s - loss: 0.0018 - mean_squared_error: 0.0018 - 3s/epoch - 231ms/step\n",
            "Epoch 94/200\n",
            "15/15 - 4s - loss: 0.0016 - mean_squared_error: 0.0016 - 4s/epoch - 234ms/step\n",
            "Epoch 95/200\n",
            "15/15 - 3s - loss: 0.0015 - mean_squared_error: 0.0015 - 3s/epoch - 231ms/step\n",
            "Epoch 96/200\n",
            "15/15 - 3s - loss: 0.0015 - mean_squared_error: 0.0015 - 3s/epoch - 233ms/step\n",
            "Epoch 97/200\n",
            "15/15 - 3s - loss: 0.0013 - mean_squared_error: 0.0013 - 3s/epoch - 232ms/step\n",
            "Epoch 98/200\n",
            "15/15 - 3s - loss: 0.0015 - mean_squared_error: 0.0015 - 3s/epoch - 230ms/step\n",
            "Epoch 99/200\n",
            "15/15 - 3s - loss: 0.0014 - mean_squared_error: 0.0014 - 3s/epoch - 229ms/step\n",
            "Epoch 100/200\n",
            "15/15 - 3s - loss: 0.0014 - mean_squared_error: 0.0014 - 3s/epoch - 231ms/step\n",
            "Epoch 101/200\n",
            "15/15 - 3s - loss: 0.0013 - mean_squared_error: 0.0013 - 3s/epoch - 233ms/step\n",
            "Epoch 102/200\n",
            "15/15 - 3s - loss: 0.0012 - mean_squared_error: 0.0012 - 3s/epoch - 231ms/step\n",
            "Epoch 103/200\n",
            "15/15 - 4s - loss: 0.0013 - mean_squared_error: 0.0013 - 4s/epoch - 234ms/step\n",
            "Epoch 104/200\n",
            "15/15 - 3s - loss: 0.0014 - mean_squared_error: 0.0014 - 3s/epoch - 230ms/step\n",
            "Epoch 105/200\n",
            "15/15 - 3s - loss: 0.0013 - mean_squared_error: 0.0013 - 3s/epoch - 232ms/step\n",
            "Epoch 106/200\n",
            "15/15 - 4s - loss: 0.0015 - mean_squared_error: 0.0015 - 4s/epoch - 234ms/step\n",
            "Epoch 107/200\n",
            "15/15 - 3s - loss: 0.0013 - mean_squared_error: 0.0013 - 3s/epoch - 231ms/step\n",
            "Epoch 108/200\n",
            "15/15 - 4s - loss: 0.0013 - mean_squared_error: 0.0013 - 4s/epoch - 238ms/step\n",
            "Epoch 109/200\n",
            "15/15 - 3s - loss: 0.0013 - mean_squared_error: 0.0013 - 3s/epoch - 231ms/step\n",
            "Epoch 110/200\n",
            "15/15 - 3s - loss: 0.0014 - mean_squared_error: 0.0014 - 3s/epoch - 232ms/step\n",
            "Epoch 111/200\n",
            "15/15 - 3s - loss: 0.0013 - mean_squared_error: 0.0013 - 3s/epoch - 233ms/step\n",
            "Epoch 112/200\n",
            "15/15 - 4s - loss: 0.0013 - mean_squared_error: 0.0013 - 4s/epoch - 236ms/step\n",
            "Epoch 113/200\n",
            "15/15 - 4s - loss: 0.0013 - mean_squared_error: 0.0013 - 4s/epoch - 238ms/step\n",
            "Epoch 114/200\n",
            "15/15 - 3s - loss: 0.0012 - mean_squared_error: 0.0012 - 3s/epoch - 232ms/step\n",
            "Epoch 115/200\n",
            "15/15 - 4s - loss: 0.0015 - mean_squared_error: 0.0015 - 4s/epoch - 237ms/step\n",
            "Epoch 116/200\n",
            "15/15 - 4s - loss: 0.0015 - mean_squared_error: 0.0015 - 4s/epoch - 237ms/step\n",
            "Epoch 117/200\n",
            "15/15 - 4s - loss: 0.0015 - mean_squared_error: 0.0015 - 4s/epoch - 233ms/step\n",
            "Epoch 118/200\n",
            "15/15 - 3s - loss: 0.0013 - mean_squared_error: 0.0013 - 3s/epoch - 231ms/step\n",
            "Epoch 119/200\n",
            "15/15 - 4s - loss: 0.0014 - mean_squared_error: 0.0014 - 4s/epoch - 234ms/step\n",
            "Epoch 120/200\n",
            "15/15 - 3s - loss: 0.0013 - mean_squared_error: 0.0013 - 3s/epoch - 232ms/step\n",
            "Epoch 121/200\n",
            "15/15 - 3s - loss: 0.0012 - mean_squared_error: 0.0012 - 3s/epoch - 229ms/step\n",
            "Epoch 122/200\n",
            "15/15 - 3s - loss: 0.0012 - mean_squared_error: 0.0012 - 3s/epoch - 231ms/step\n",
            "Epoch 123/200\n",
            "15/15 - 4s - loss: 0.0012 - mean_squared_error: 0.0012 - 4s/epoch - 235ms/step\n",
            "Epoch 124/200\n",
            "15/15 - 3s - loss: 0.0015 - mean_squared_error: 0.0015 - 3s/epoch - 229ms/step\n",
            "Epoch 125/200\n",
            "15/15 - 4s - loss: 0.0015 - mean_squared_error: 0.0015 - 4s/epoch - 234ms/step\n",
            "Epoch 126/200\n",
            "15/15 - 3s - loss: 0.0017 - mean_squared_error: 0.0017 - 3s/epoch - 233ms/step\n",
            "Epoch 127/200\n",
            "15/15 - 3s - loss: 0.0015 - mean_squared_error: 0.0015 - 3s/epoch - 231ms/step\n",
            "Epoch 128/200\n",
            "15/15 - 3s - loss: 0.0012 - mean_squared_error: 0.0012 - 3s/epoch - 231ms/step\n",
            "Epoch 129/200\n",
            "15/15 - 4s - loss: 0.0014 - mean_squared_error: 0.0014 - 4s/epoch - 238ms/step\n",
            "Epoch 130/200\n",
            "15/15 - 3s - loss: 0.0013 - mean_squared_error: 0.0013 - 3s/epoch - 233ms/step\n",
            "Epoch 131/200\n",
            "15/15 - 4s - loss: 0.0013 - mean_squared_error: 0.0013 - 4s/epoch - 233ms/step\n",
            "Epoch 132/200\n",
            "15/15 - 4s - loss: 0.0014 - mean_squared_error: 0.0014 - 4s/epoch - 239ms/step\n",
            "Epoch 133/200\n",
            "15/15 - 3s - loss: 0.0013 - mean_squared_error: 0.0013 - 3s/epoch - 232ms/step\n",
            "Epoch 134/200\n",
            "15/15 - 4s - loss: 0.0015 - mean_squared_error: 0.0015 - 4s/epoch - 236ms/step\n",
            "Epoch 135/200\n",
            "15/15 - 4s - loss: 0.0013 - mean_squared_error: 0.0013 - 4s/epoch - 235ms/step\n",
            "Epoch 136/200\n",
            "15/15 - 4s - loss: 0.0011 - mean_squared_error: 0.0011 - 4s/epoch - 237ms/step\n",
            "Epoch 137/200\n",
            "15/15 - 4s - loss: 0.0012 - mean_squared_error: 0.0012 - 4s/epoch - 237ms/step\n",
            "Epoch 138/200\n",
            "15/15 - 4s - loss: 0.0011 - mean_squared_error: 0.0011 - 4s/epoch - 234ms/step\n",
            "Epoch 139/200\n",
            "15/15 - 4s - loss: 0.0011 - mean_squared_error: 0.0011 - 4s/epoch - 235ms/step\n",
            "Epoch 140/200\n",
            "15/15 - 4s - loss: 0.0011 - mean_squared_error: 0.0011 - 4s/epoch - 239ms/step\n",
            "Epoch 141/200\n",
            "15/15 - 4s - loss: 0.0011 - mean_squared_error: 0.0011 - 4s/epoch - 234ms/step\n",
            "Epoch 142/200\n",
            "15/15 - 3s - loss: 0.0012 - mean_squared_error: 0.0012 - 3s/epoch - 232ms/step\n",
            "Epoch 143/200\n",
            "15/15 - 4s - loss: 0.0012 - mean_squared_error: 0.0012 - 4s/epoch - 237ms/step\n",
            "Epoch 144/200\n",
            "15/15 - 3s - loss: 0.0011 - mean_squared_error: 0.0011 - 3s/epoch - 230ms/step\n",
            "Epoch 145/200\n",
            "15/15 - 4s - loss: 0.0012 - mean_squared_error: 0.0012 - 4s/epoch - 234ms/step\n",
            "Epoch 146/200\n",
            "15/15 - 4s - loss: 0.0011 - mean_squared_error: 0.0011 - 4s/epoch - 234ms/step\n",
            "Epoch 147/200\n",
            "15/15 - 3s - loss: 0.0011 - mean_squared_error: 0.0011 - 3s/epoch - 232ms/step\n",
            "Epoch 148/200\n",
            "15/15 - 3s - loss: 0.0011 - mean_squared_error: 0.0011 - 3s/epoch - 230ms/step\n",
            "Epoch 149/200\n",
            "15/15 - 4s - loss: 0.0011 - mean_squared_error: 0.0011 - 4s/epoch - 234ms/step\n",
            "Epoch 150/200\n",
            "15/15 - 3s - loss: 0.0011 - mean_squared_error: 0.0011 - 3s/epoch - 230ms/step\n",
            "Epoch 151/200\n",
            "15/15 - 3s - loss: 0.0013 - mean_squared_error: 0.0013 - 3s/epoch - 231ms/step\n",
            "Epoch 152/200\n",
            "15/15 - 4s - loss: 0.0011 - mean_squared_error: 0.0011 - 4s/epoch - 238ms/step\n",
            "Epoch 153/200\n",
            "15/15 - 4s - loss: 0.0012 - mean_squared_error: 0.0012 - 4s/epoch - 237ms/step\n",
            "Epoch 154/200\n",
            "15/15 - 4s - loss: 0.0012 - mean_squared_error: 0.0012 - 4s/epoch - 236ms/step\n",
            "Epoch 155/200\n",
            "15/15 - 4s - loss: 0.0014 - mean_squared_error: 0.0014 - 4s/epoch - 235ms/step\n",
            "Epoch 156/200\n",
            "15/15 - 3s - loss: 0.0013 - mean_squared_error: 0.0013 - 3s/epoch - 231ms/step\n",
            "Epoch 157/200\n",
            "15/15 - 4s - loss: 0.0011 - mean_squared_error: 0.0011 - 4s/epoch - 234ms/step\n",
            "Epoch 158/200\n",
            "15/15 - 3s - loss: 0.0011 - mean_squared_error: 0.0011 - 3s/epoch - 230ms/step\n",
            "Epoch 159/200\n",
            "15/15 - 4s - loss: 0.0011 - mean_squared_error: 0.0011 - 4s/epoch - 234ms/step\n",
            "Epoch 160/200\n",
            "15/15 - 3s - loss: 8.9350e-04 - mean_squared_error: 8.9350e-04 - 3s/epoch - 227ms/step\n",
            "Epoch 161/200\n",
            "15/15 - 3s - loss: 0.0011 - mean_squared_error: 0.0011 - 3s/epoch - 232ms/step\n",
            "Epoch 162/200\n",
            "15/15 - 3s - loss: 0.0011 - mean_squared_error: 0.0011 - 3s/epoch - 232ms/step\n",
            "Epoch 163/200\n",
            "15/15 - 4s - loss: 0.0012 - mean_squared_error: 0.0012 - 4s/epoch - 234ms/step\n",
            "Epoch 164/200\n",
            "15/15 - 3s - loss: 0.0012 - mean_squared_error: 0.0012 - 3s/epoch - 232ms/step\n",
            "Epoch 165/200\n",
            "15/15 - 3s - loss: 0.0011 - mean_squared_error: 0.0011 - 3s/epoch - 233ms/step\n",
            "Epoch 166/200\n",
            "15/15 - 3s - loss: 0.0011 - mean_squared_error: 0.0011 - 3s/epoch - 232ms/step\n",
            "Epoch 167/200\n",
            "15/15 - 3s - loss: 0.0013 - mean_squared_error: 0.0013 - 3s/epoch - 229ms/step\n",
            "Epoch 168/200\n",
            "15/15 - 3s - loss: 0.0010 - mean_squared_error: 0.0010 - 3s/epoch - 231ms/step\n",
            "Epoch 169/200\n",
            "15/15 - 3s - loss: 9.7590e-04 - mean_squared_error: 9.7590e-04 - 3s/epoch - 233ms/step\n",
            "Epoch 170/200\n",
            "15/15 - 3s - loss: 0.0011 - mean_squared_error: 0.0011 - 3s/epoch - 231ms/step\n",
            "Epoch 171/200\n",
            "15/15 - 3s - loss: 9.7452e-04 - mean_squared_error: 9.7452e-04 - 3s/epoch - 230ms/step\n",
            "Epoch 172/200\n",
            "15/15 - 4s - loss: 0.0011 - mean_squared_error: 0.0011 - 4s/epoch - 234ms/step\n",
            "Epoch 173/200\n",
            "15/15 - 4s - loss: 9.8230e-04 - mean_squared_error: 9.8230e-04 - 4s/epoch - 236ms/step\n",
            "Epoch 174/200\n",
            "15/15 - 3s - loss: 9.0116e-04 - mean_squared_error: 9.0116e-04 - 3s/epoch - 232ms/step\n",
            "Epoch 175/200\n",
            "15/15 - 4s - loss: 0.0011 - mean_squared_error: 0.0011 - 4s/epoch - 235ms/step\n",
            "Epoch 176/200\n",
            "15/15 - 3s - loss: 8.5953e-04 - mean_squared_error: 8.5953e-04 - 3s/epoch - 231ms/step\n",
            "Epoch 177/200\n",
            "15/15 - 3s - loss: 0.0012 - mean_squared_error: 0.0012 - 3s/epoch - 230ms/step\n",
            "Epoch 178/200\n",
            "15/15 - 4s - loss: 0.0011 - mean_squared_error: 0.0011 - 4s/epoch - 236ms/step\n",
            "Epoch 179/200\n",
            "15/15 - 4s - loss: 0.0012 - mean_squared_error: 0.0012 - 4s/epoch - 234ms/step\n",
            "Epoch 180/200\n",
            "15/15 - 3s - loss: 0.0010 - mean_squared_error: 0.0010 - 3s/epoch - 230ms/step\n",
            "Epoch 181/200\n",
            "15/15 - 3s - loss: 0.0010 - mean_squared_error: 0.0010 - 3s/epoch - 233ms/step\n",
            "Epoch 182/200\n",
            "15/15 - 3s - loss: 0.0021 - mean_squared_error: 0.0021 - 3s/epoch - 232ms/step\n",
            "Epoch 183/200\n",
            "15/15 - 4s - loss: 0.0020 - mean_squared_error: 0.0020 - 4s/epoch - 234ms/step\n",
            "Epoch 184/200\n",
            "15/15 - 3s - loss: 0.0015 - mean_squared_error: 0.0015 - 3s/epoch - 231ms/step\n",
            "Epoch 185/200\n",
            "15/15 - 3s - loss: 0.0015 - mean_squared_error: 0.0015 - 3s/epoch - 230ms/step\n",
            "Epoch 186/200\n",
            "15/15 - 3s - loss: 0.0013 - mean_squared_error: 0.0013 - 3s/epoch - 231ms/step\n",
            "Epoch 187/200\n",
            "15/15 - 4s - loss: 0.0014 - mean_squared_error: 0.0014 - 4s/epoch - 234ms/step\n",
            "Epoch 188/200\n",
            "15/15 - 3s - loss: 0.0013 - mean_squared_error: 0.0013 - 3s/epoch - 231ms/step\n",
            "Epoch 189/200\n",
            "15/15 - 3s - loss: 0.0014 - mean_squared_error: 0.0014 - 3s/epoch - 227ms/step\n",
            "Epoch 190/200\n",
            "15/15 - 4s - loss: 0.0012 - mean_squared_error: 0.0012 - 4s/epoch - 234ms/step\n",
            "Epoch 191/200\n",
            "15/15 - 3s - loss: 0.0013 - mean_squared_error: 0.0013 - 3s/epoch - 231ms/step\n",
            "Epoch 192/200\n",
            "15/15 - 3s - loss: 0.0011 - mean_squared_error: 0.0011 - 3s/epoch - 233ms/step\n",
            "Epoch 193/200\n",
            "15/15 - 3s - loss: 0.0014 - mean_squared_error: 0.0014 - 3s/epoch - 232ms/step\n",
            "Epoch 194/200\n",
            "15/15 - 4s - loss: 0.0011 - mean_squared_error: 0.0011 - 4s/epoch - 236ms/step\n",
            "Epoch 195/200\n",
            "15/15 - 3s - loss: 0.0012 - mean_squared_error: 0.0012 - 3s/epoch - 232ms/step\n",
            "Epoch 196/200\n",
            "15/15 - 4s - loss: 0.0012 - mean_squared_error: 0.0012 - 4s/epoch - 238ms/step\n",
            "Epoch 197/200\n",
            "15/15 - 3s - loss: 0.0011 - mean_squared_error: 0.0011 - 3s/epoch - 232ms/step\n",
            "Epoch 198/200\n",
            "15/15 - 3s - loss: 0.0012 - mean_squared_error: 0.0012 - 3s/epoch - 233ms/step\n",
            "Epoch 199/200\n",
            "15/15 - 3s - loss: 0.0011 - mean_squared_error: 0.0011 - 3s/epoch - 228ms/step\n",
            "Epoch 200/200\n",
            "15/15 - 3s - loss: 0.0010 - mean_squared_error: 0.0010 - 3s/epoch - 229ms/step\n"
          ]
        },
        {
          "output_type": "execute_result",
          "data": {
            "text/plain": [
              "<keras.callbacks.History at 0x7ff363b8c190>"
            ]
          },
          "metadata": {},
          "execution_count": 16
        }
      ]
    },
    {
      "cell_type": "markdown",
      "source": [
        "#Performance\n",
        "Next we evaluate model performance"
      ],
      "metadata": {
        "id": "KdmYbfv765Ge"
      }
    },
    {
      "cell_type": "code",
      "source": [
        "# First we make the predictions\n",
        "train_predict = model.predict(x_train)\n",
        "test_predict = model.predict(x_test)\n",
        "\n",
        "# Next we use inverse_transform to undo the scaling performed earlier\n",
        "train_predict = scaler.inverse_transform(train_predict)\n",
        "test_predict = scaler.inverse_transform(test_predict)\n"
      ],
      "metadata": {
        "id": "OSjc_XCeGezR"
      },
      "execution_count": null,
      "outputs": []
    },
    {
      "cell_type": "code",
      "source": [
        "import math\n",
        "_, mse_train = model.evaluate(x_train, y_train)\n",
        "print(\"MSE: %.2f RMSE: %.2f\" % (mse_train, math.sqrt(mse_train)))"
      ],
      "metadata": {
        "colab": {
          "base_uri": "https://localhost:8080/"
        },
        "id": "fJMESKtjPn5R",
        "outputId": "a59da8ac-ff52-4b2c-f476-b8e0fcd51986"
      },
      "execution_count": null,
      "outputs": [
        {
          "output_type": "stream",
          "name": "stdout",
          "text": [
            "29/29 [==============================] - 2s 41ms/step - loss: 9.0239e-04 - mean_squared_error: 9.0239e-04\n",
            "MSE: 0.00 RMSE: 0.03\n"
          ]
        }
      ]
    },
    {
      "cell_type": "code",
      "source": [
        "_, mse_test = model.evaluate(x_test, y_test)\n",
        "print(\"MSE: %.2f RMSE: %.2f\" % (mse_test, math.sqrt(mse_test)))"
      ],
      "metadata": {
        "colab": {
          "base_uri": "https://localhost:8080/"
        },
        "id": "luU0fRgm24Zp",
        "outputId": "97b969d1-43be-4b6b-d759-f8a4bc326430"
      },
      "execution_count": null,
      "outputs": [
        {
          "output_type": "stream",
          "name": "stdout",
          "text": [
            "5/5 [==============================] - 0s 40ms/step - loss: 0.0334 - mean_squared_error: 0.0334\n",
            "MSE: 0.03 RMSE: 0.18\n"
          ]
        }
      ]
    },
    {
      "cell_type": "code",
      "source": [
        "# shift train predictions for plotting\n",
        "trainPredictPlot = np.empty_like(np.array(df_close)[:, np.newaxis])\n",
        "trainPredictPlot[:, :] = np.nan\n",
        "trainPredictPlot[step:len(train_predict)+step, :] = train_predict-440\n",
        "# shift test predictions for plotting\n",
        "testPredictPlot = np.empty_like(np.array(df_close)[:, np.newaxis])\n",
        "testPredictPlot[:, :] = np.nan\n",
        "testPredictPlot[len(train_predict)+(step*2)+1:len(df_close)-1, :] = test_predict\n",
        "# plot baseline and predictions\n",
        "\n",
        "\n",
        "pl.plot(df_close, \"-b\", label=\"Entire Data Set\")\n",
        "pl.plot(trainPredictPlot, \"-g\", label=\"Training\")\n",
        "pl.plot(testPredictPlot, \"-r\", label=\"Predictions\")\n",
        "pl.legend(loc=\"upper left\")\n",
        "pl.show()"
      ],
      "metadata": {
        "colab": {
          "base_uri": "https://localhost:8080/",
          "height": 265
        },
        "id": "-ekZXbZg9otn",
        "outputId": "c820723e-124f-438e-d8fd-85588c2cd78d"
      },
      "execution_count": null,
      "outputs": [
        {
          "output_type": "display_data",
          "data": {
            "image/png": "[encoded data removed]",
            "text/plain": [
              "<Figure size 432x288 with 1 Axes>"
            ]
          },
          "metadata": {
            "needs_background": "light"
          }
        }
      ]
    },
    {
      "cell_type": "markdown",
      "source": [
        ""
      ],
      "metadata": {
        "id": "T8dY-cOHS3xM"
      }
    },
    {
      "cell_type": "code",
      "source": [
        ""
      ],
      "metadata": {
        "id": "NhGJj7fEODoO"
      },
      "execution_count": null,
      "outputs": []
    }
  ]
}