{
  "nbformat": 4,
  "nbformat_minor": 0,
  "metadata": {
    "colab": {
      "name": "MLStackedLSTM.ipynb",
      "provenance": [],
      "collapsed_sections": []
    },
    "kernelspec": {
      "name": "python3",
      "display_name": "Python 3"
    },
    "language_info": {
      "name": "python"
    },
    "accelerator": "TPU"
  },
  "cells": [
    {
      "cell_type": "markdown",
      "source": [
        "#Final Project For CSCI 4050\n",
        "\n",
        "Start with imports"
      ],
      "metadata": {
        "id": "usJtkxEsbxxz"
      }
    },
    {
      "cell_type": "code",
      "execution_count": null,
      "metadata": {
        "id": "A2p_4HjKbtKd"
      },
      "outputs": [],
      "source": [
        "import tensorflow as tf\n",
        "import tensorflow.keras.models as models\n",
        "import tensorflow.keras.layers as layers\n",
        "import tensorflow.keras.losses as losses\n",
        "import tensorflow.keras.optimizers as optimizers\n",
        "from sklearn.preprocessing import StandardScaler\n",
        "import numpy as np\n",
        "import matplotlib.pyplot as pl\n",
        "import pandas as pd"
      ]
    },
    {
      "cell_type": "markdown",
      "source": [
        "Importing CSV data for tesla stock prices from past 5 years"
      ],
      "metadata": {
        "id": "BruG1Mxtg7-F"
      }
    },
    {
      "cell_type": "code",
      "source": [
        "url = 'https://raw.githubusercontent.com/Jefferson-Xie/ML/main/TSLA.csv'\n",
        "df = pd.read_csv(url)"
      ],
      "metadata": {
        "id": "ybxNtlB8cU3B"
      },
      "execution_count": null,
      "outputs": []
    },
    {
      "cell_type": "code",
      "source": [
        "# View head and tail of dataframe\n",
        "df.head()"
      ],
      "metadata": {
        "colab": {
          "base_uri": "https://localhost:8080/",
          "height": 206
        },
        "id": "H4zKOzWDhcPO",
        "outputId": "53723ee0-cfa0-4cad-fe48-1ce62b2253da"
      },
      "execution_count": null,
      "outputs": [
        {
          "output_type": "execute_result",
          "data": {
            "text/plain": [
              "         Date        Open        High         Low       Close   Adj Close  \\\n",
              "0  2016-12-12  192.800003  194.419998  191.039993  192.429993  192.429993   \n",
              "1  2016-12-13  193.179993  201.279999  193.000000  198.149994  198.149994   \n",
              "2  2016-12-14  198.740005  203.000000  196.759995  198.690002  198.690002   \n",
              "3  2016-12-15  198.410004  200.740005  197.389999  197.580002  197.580002   \n",
              "4  2016-12-16  198.080002  202.589996  197.600006  202.490005  202.490005   \n",
              "\n",
              "    Volume  \n",
              "0  2438876  \n",
              "1  6823884  \n",
              "2  4150927  \n",
              "3  3219567  \n",
              "4  3796889  "
            ],
            "text/html": [
              "\n",
              "  <div id=\"df-db56d857-c3f8-41eb-b7ed-e0e938cde43b\">\n",
              "    <div class=\"colab-df-container\">\n",
              "      <div>\n",
              "<style scoped>\n",
              "    .dataframe tbody tr th:only-of-type {\n",
              "        vertical-align: middle;\n",
              "    }\n",
              "\n",
              "    .dataframe tbody tr th {\n",
              "        vertical-align: top;\n",
              "    }\n",
              "\n",
              "    .dataframe thead th {\n",
              "        text-align: right;\n",
              "    }\n",
              "</style>\n",
              "<table border=\"1\" class=\"dataframe\">\n",
              "  <thead>\n",
              "    <tr style=\"text-align: right;\">\n",
              "      <th></th>\n",
              "      <th>Date</th>\n",
              "      <th>Open</th>\n",
              "      <th>High</th>\n",
              "      <th>Low</th>\n",
              "      <th>Close</th>\n",
              "      <th>Adj Close</th>\n",
              "      <th>Volume</th>\n",
              "    </tr>\n",
              "  </thead>\n",
              "  <tbody>\n",
              "    <tr>\n",
              "      <th>0</th>\n",
              "      <td>2016-12-12</td>\n",
              "      <td>192.800003</td>\n",
              "      <td>194.419998</td>\n",
              "      <td>191.039993</td>\n",
              "      <td>192.429993</td>\n",
              "      <td>192.429993</td>\n",
              "      <td>2438876</td>\n",
              "    </tr>\n",
              "    <tr>\n",
              "      <th>1</th>\n",
              "      <td>2016-12-13</td>\n",
              "      <td>193.179993</td>\n",
              "      <td>201.279999</td>\n",
              "      <td>193.000000</td>\n",
              "      <td>198.149994</td>\n",
              "      <td>198.149994</td>\n",
              "      <td>6823884</td>\n",
              "    </tr>\n",
              "    <tr>\n",
              "      <th>2</th>\n",
              "      <td>2016-12-14</td>\n",
              "      <td>198.740005</td>\n",
              "      <td>203.000000</td>\n",
              "      <td>196.759995</td>\n",
              "      <td>198.690002</td>\n",
              "      <td>198.690002</td>\n",
              "      <td>4150927</td>\n",
              "    </tr>\n",
              "    <tr>\n",
              "      <th>3</th>\n",
              "      <td>2016-12-15</td>\n",
              "      <td>198.410004</td>\n",
              "      <td>200.740005</td>\n",
              "      <td>197.389999</td>\n",
              "      <td>197.580002</td>\n",
              "      <td>197.580002</td>\n",
              "      <td>3219567</td>\n",
              "    </tr>\n",
              "    <tr>\n",
              "      <th>4</th>\n",
              "      <td>2016-12-16</td>\n",
              "      <td>198.080002</td>\n",
              "      <td>202.589996</td>\n",
              "      <td>197.600006</td>\n",
              "      <td>202.490005</td>\n",
              "      <td>202.490005</td>\n",
              "      <td>3796889</td>\n",
              "    </tr>\n",
              "  </tbody>\n",
              "</table>\n",
              "</div>\n",
              "      <button class=\"colab-df-convert\" onclick=\"convertToInteractive('df-db56d857-c3f8-41eb-b7ed-e0e938cde43b')\"\n",
              "              title=\"Convert this dataframe to an interactive table.\"\n",
              "              style=\"display:none;\">\n",
              "        \n",
              "  <svg xmlns=\"http://www.w3.org/2000/svg\" height=\"24px\"viewBox=\"0 0 24 24\"\n",
              "       width=\"24px\">\n",
              "    <path d=\"M0 0h24v24H0V0z\" fill=\"none\"/>\n",
              "    <path d=\"M18.56 5.44l.94 2.06.94-2.06 2.06-.94-2.06-.94-.94-2.06-.94 2.06-2.06.94zm-11 1L8.5 8.5l.94-2.06 2.06-.94-2.06-.94L8.5 2.5l-.94 2.06-2.06.94zm10 10l.94 2.06.94-2.06 2.06-.94-2.06-.94-.94-2.06-.94 2.06-2.06.94z\"/><path d=\"M17.41 7.96l-1.37-1.37c-.4-.4-.92-.59-1.43-.59-.52 0-1.04.2-1.43.59L10.3 9.45l-7.72 7.72c-.78.78-.78 2.05 0 2.83L4 21.41c.39.39.9.59 1.41.59.51 0 1.02-.2 1.41-.59l7.78-7.78 2.81-2.81c.8-.78.8-2.07 0-2.86zM5.41 20L4 18.59l7.72-7.72 1.47 1.35L5.41 20z\"/>\n",
              "  </svg>\n",
              "      </button>\n",
              "      \n",
              "  <style>\n",
              "    .colab-df-container {\n",
              "      display:flex;\n",
              "      flex-wrap:wrap;\n",
              "      gap: 12px;\n",
              "    }\n",
              "\n",
              "    .colab-df-convert {\n",
              "      background-color: #E8F0FE;\n",
              "      border: none;\n",
              "      border-radius: 50%;\n",
              "      cursor: pointer;\n",
              "      display: none;\n",
              "      fill: #1967D2;\n",
              "      height: 32px;\n",
              "      padding: 0 0 0 0;\n",
              "      width: 32px;\n",
              "    }\n",
              "\n",
              "    .colab-df-convert:hover {\n",
              "      background-color: #E2EBFA;\n",
              "      box-shadow: 0px 1px 2px rgba(60, 64, 67, 0.3), 0px 1px 3px 1px rgba(60, 64, 67, 0.15);\n",
              "      fill: #174EA6;\n",
              "    }\n",
              "\n",
              "    [theme=dark] .colab-df-convert {\n",
              "      background-color: #3B4455;\n",
              "      fill: #D2E3FC;\n",
              "    }\n",
              "\n",
              "    [theme=dark] .colab-df-convert:hover {\n",
              "      background-color: #434B5C;\n",
              "      box-shadow: 0px 1px 3px 1px rgba(0, 0, 0, 0.15);\n",
              "      filter: drop-shadow(0px 1px 2px rgba(0, 0, 0, 0.3));\n",
              "      fill: #FFFFFF;\n",
              "    }\n",
              "  </style>\n",
              "\n",
              "      <script>\n",
              "        const buttonEl =\n",
              "          document.querySelector('#df-db56d857-c3f8-41eb-b7ed-e0e938cde43b button.colab-df-convert');\n",
              "        buttonEl.style.display =\n",
              "          google.colab.kernel.accessAllowed ? 'block' : 'none';\n",
              "\n",
              "        async function convertToInteractive(key) {\n",
              "          const element = document.querySelector('#df-db56d857-c3f8-41eb-b7ed-e0e938cde43b');\n",
              "          const dataTable =\n",
              "            await google.colab.kernel.invokeFunction('convertToInteractive',\n",
              "                                                     [key], {});\n",
              "          if (!dataTable) return;\n",
              "\n",
              "          const docLinkHtml = 'Like what you see? Visit the ' +\n",
              "            '<a target=\"_blank\" href=https://colab.research.google.com/notebooks/data_table.ipynb>data table notebook</a>'\n",
              "            + ' to learn more about interactive tables.';\n",
              "          element.innerHTML = '';\n",
              "          dataTable['output_type'] = 'display_data';\n",
              "          await google.colab.output.renderOutput(dataTable, element);\n",
              "          const docLink = document.createElement('div');\n",
              "          docLink.innerHTML = docLinkHtml;\n",
              "          element.appendChild(docLink);\n",
              "        }\n",
              "      </script>\n",
              "    </div>\n",
              "  </div>\n",
              "  "
            ]
          },
          "metadata": {},
          "execution_count": 4
        }
      ]
    },
    {
      "cell_type": "code",
      "source": [
        "df.tail()"
      ],
      "metadata": {
        "colab": {
          "base_uri": "https://localhost:8080/",
          "height": 206
        },
        "id": "fdZOovIPhizK",
        "outputId": "409b031e-b7d2-4d5d-c943-8ad8a53d5e42"
      },
      "execution_count": null,
      "outputs": [
        {
          "output_type": "execute_result",
          "data": {
            "text/plain": [
              "            Date         Open         High          Low        Close  \\\n",
              "1254  2021-12-06  1001.510010  1021.640015   950.500000  1009.010010   \n",
              "1255  2021-12-07  1044.199951  1057.673950  1026.810059  1051.750000   \n",
              "1256  2021-12-08  1052.709961  1072.380005  1033.000122  1068.959961   \n",
              "1257  2021-12-09  1060.640015  1062.489990  1002.359985  1003.799988   \n",
              "1258  2021-12-10  1008.750000  1020.979675   982.530029  1017.030029   \n",
              "\n",
              "        Adj Close    Volume  \n",
              "1254  1009.010010  27221037  \n",
              "1255  1051.750000  18694857  \n",
              "1256  1068.959961  13968790  \n",
              "1257  1003.799988  19446486  \n",
              "1258  1017.030029  19229185  "
            ],
            "text/html": [
              "\n",
              "  <div id=\"df-13dc697e-ec80-4099-af0a-3ae9b93e5f01\">\n",
              "    <div class=\"colab-df-container\">\n",
              "      <div>\n",
              "<style scoped>\n",
              "    .dataframe tbody tr th:only-of-type {\n",
              "        vertical-align: middle;\n",
              "    }\n",
              "\n",
              "    .dataframe tbody tr th {\n",
              "        vertical-align: top;\n",
              "    }\n",
              "\n",
              "    .dataframe thead th {\n",
              "        text-align: right;\n",
              "    }\n",
              "</style>\n",
              "<table border=\"1\" class=\"dataframe\">\n",
              "  <thead>\n",
              "    <tr style=\"text-align: right;\">\n",
              "      <th></th>\n",
              "      <th>Date</th>\n",
              "      <th>Open</th>\n",
              "      <th>High</th>\n",
              "      <th>Low</th>\n",
              "      <th>Close</th>\n",
              "      <th>Adj Close</th>\n",
              "      <th>Volume</th>\n",
              "    </tr>\n",
              "  </thead>\n",
              "  <tbody>\n",
              "    <tr>\n",
              "      <th>1254</th>\n",
              "      <td>2021-12-06</td>\n",
              "      <td>1001.510010</td>\n",
              "      <td>1021.640015</td>\n",
              "      <td>950.500000</td>\n",
              "      <td>1009.010010</td>\n",
              "      <td>1009.010010</td>\n",
              "      <td>27221037</td>\n",
              "    </tr>\n",
              "    <tr>\n",
              "      <th>1255</th>\n",
              "      <td>2021-12-07</td>\n",
              "      <td>1044.199951</td>\n",
              "      <td>1057.673950</td>\n",
              "      <td>1026.810059</td>\n",
              "      <td>1051.750000</td>\n",
              "      <td>1051.750000</td>\n",
              "      <td>18694857</td>\n",
              "    </tr>\n",
              "    <tr>\n",
              "      <th>1256</th>\n",
              "      <td>2021-12-08</td>\n",
              "      <td>1052.709961</td>\n",
              "      <td>1072.380005</td>\n",
              "      <td>1033.000122</td>\n",
              "      <td>1068.959961</td>\n",
              "      <td>1068.959961</td>\n",
              "      <td>13968790</td>\n",
              "    </tr>\n",
              "    <tr>\n",
              "      <th>1257</th>\n",
              "      <td>2021-12-09</td>\n",
              "      <td>1060.640015</td>\n",
              "      <td>1062.489990</td>\n",
              "      <td>1002.359985</td>\n",
              "      <td>1003.799988</td>\n",
              "      <td>1003.799988</td>\n",
              "      <td>19446486</td>\n",
              "    </tr>\n",
              "    <tr>\n",
              "      <th>1258</th>\n",
              "      <td>2021-12-10</td>\n",
              "      <td>1008.750000</td>\n",
              "      <td>1020.979675</td>\n",
              "      <td>982.530029</td>\n",
              "      <td>1017.030029</td>\n",
              "      <td>1017.030029</td>\n",
              "      <td>19229185</td>\n",
              "    </tr>\n",
              "  </tbody>\n",
              "</table>\n",
              "</div>\n",
              "      <button class=\"colab-df-convert\" onclick=\"convertToInteractive('df-13dc697e-ec80-4099-af0a-3ae9b93e5f01')\"\n",
              "              title=\"Convert this dataframe to an interactive table.\"\n",
              "              style=\"display:none;\">\n",
              "        \n",
              "  <svg xmlns=\"http://www.w3.org/2000/svg\" height=\"24px\"viewBox=\"0 0 24 24\"\n",
              "       width=\"24px\">\n",
              "    <path d=\"M0 0h24v24H0V0z\" fill=\"none\"/>\n",
              "    <path d=\"M18.56 5.44l.94 2.06.94-2.06 2.06-.94-2.06-.94-.94-2.06-.94 2.06-2.06.94zm-11 1L8.5 8.5l.94-2.06 2.06-.94-2.06-.94L8.5 2.5l-.94 2.06-2.06.94zm10 10l.94 2.06.94-2.06 2.06-.94-2.06-.94-.94-2.06-.94 2.06-2.06.94z\"/><path d=\"M17.41 7.96l-1.37-1.37c-.4-.4-.92-.59-1.43-.59-.52 0-1.04.2-1.43.59L10.3 9.45l-7.72 7.72c-.78.78-.78 2.05 0 2.83L4 21.41c.39.39.9.59 1.41.59.51 0 1.02-.2 1.41-.59l7.78-7.78 2.81-2.81c.8-.78.8-2.07 0-2.86zM5.41 20L4 18.59l7.72-7.72 1.47 1.35L5.41 20z\"/>\n",
              "  </svg>\n",
              "      </button>\n",
              "      \n",
              "  <style>\n",
              "    .colab-df-container {\n",
              "      display:flex;\n",
              "      flex-wrap:wrap;\n",
              "      gap: 12px;\n",
              "    }\n",
              "\n",
              "    .colab-df-convert {\n",
              "      background-color: #E8F0FE;\n",
              "      border: none;\n",
              "      border-radius: 50%;\n",
              "      cursor: pointer;\n",
              "      display: none;\n",
              "      fill: #1967D2;\n",
              "      height: 32px;\n",
              "      padding: 0 0 0 0;\n",
              "      width: 32px;\n",
              "    }\n",
              "\n",
              "    .colab-df-convert:hover {\n",
              "      background-color: #E2EBFA;\n",
              "      box-shadow: 0px 1px 2px rgba(60, 64, 67, 0.3), 0px 1px 3px 1px rgba(60, 64, 67, 0.15);\n",
              "      fill: #174EA6;\n",
              "    }\n",
              "\n",
              "    [theme=dark] .colab-df-convert {\n",
              "      background-color: #3B4455;\n",
              "      fill: #D2E3FC;\n",
              "    }\n",
              "\n",
              "    [theme=dark] .colab-df-convert:hover {\n",
              "      background-color: #434B5C;\n",
              "      box-shadow: 0px 1px 3px 1px rgba(0, 0, 0, 0.15);\n",
              "      filter: drop-shadow(0px 1px 2px rgba(0, 0, 0, 0.3));\n",
              "      fill: #FFFFFF;\n",
              "    }\n",
              "  </style>\n",
              "\n",
              "      <script>\n",
              "        const buttonEl =\n",
              "          document.querySelector('#df-13dc697e-ec80-4099-af0a-3ae9b93e5f01 button.colab-df-convert');\n",
              "        buttonEl.style.display =\n",
              "          google.colab.kernel.accessAllowed ? 'block' : 'none';\n",
              "\n",
              "        async function convertToInteractive(key) {\n",
              "          const element = document.querySelector('#df-13dc697e-ec80-4099-af0a-3ae9b93e5f01');\n",
              "          const dataTable =\n",
              "            await google.colab.kernel.invokeFunction('convertToInteractive',\n",
              "                                                     [key], {});\n",
              "          if (!dataTable) return;\n",
              "\n",
              "          const docLinkHtml = 'Like what you see? Visit the ' +\n",
              "            '<a target=\"_blank\" href=https://colab.research.google.com/notebooks/data_table.ipynb>data table notebook</a>'\n",
              "            + ' to learn more about interactive tables.';\n",
              "          element.innerHTML = '';\n",
              "          dataTable['output_type'] = 'display_data';\n",
              "          await google.colab.output.renderOutput(dataTable, element);\n",
              "          const docLink = document.createElement('div');\n",
              "          docLink.innerHTML = docLinkHtml;\n",
              "          element.appendChild(docLink);\n",
              "        }\n",
              "      </script>\n",
              "    </div>\n",
              "  </div>\n",
              "  "
            ]
          },
          "metadata": {},
          "execution_count": 5
        }
      ]
    },
    {
      "cell_type": "code",
      "source": [
        "# For simplicity, I will be using only the closing price; but for a more \"accurate\" model, a combination of open, high, low, and close can be used then combined\n",
        "df_close = df.reset_index()['Close']"
      ],
      "metadata": {
        "id": "qBoTBodkhpLg"
      },
      "execution_count": null,
      "outputs": []
    },
    {
      "cell_type": "code",
      "source": [
        "print(np.array(df_close)[:, np.newaxis])"
      ],
      "metadata": {
        "colab": {
          "base_uri": "https://localhost:8080/"
        },
        "id": "RuhiTe3S-XIo",
        "outputId": "0ce14e8d-c01b-4878-943d-6f4d8f19a376"
      },
      "execution_count": null,
      "outputs": [
        {
          "output_type": "stream",
          "name": "stdout",
          "text": [
            "[[ 192.429993]\n",
            " [ 198.149994]\n",
            " [ 198.690002]\n",
            " ...\n",
            " [1068.959961]\n",
            " [1003.799988]\n",
            " [1017.030029]]\n"
          ]
        }
      ]
    },
    {
      "cell_type": "code",
      "source": [
        "df_close.shape"
      ],
      "metadata": {
        "colab": {
          "base_uri": "https://localhost:8080/"
        },
        "id": "9a75uzaGjSl-",
        "outputId": "8557d679-b9b9-40f8-bb12-fc3d2540bbbb"
      },
      "execution_count": null,
      "outputs": [
        {
          "output_type": "execute_result",
          "data": {
            "text/plain": [
              "(1259,)"
            ]
          },
          "metadata": {},
          "execution_count": 8
        }
      ]
    },
    {
      "cell_type": "code",
      "source": [
        "# Initial View\n",
        "pl.plot(df_close)"
      ],
      "metadata": {
        "colab": {
          "base_uri": "https://localhost:8080/",
          "height": 282
        },
        "id": "zLoBBcuBj9gT",
        "outputId": "1de274bb-749a-4417-e088-01fe72c296ad"
      },
      "execution_count": null,
      "outputs": [
        {
          "output_type": "execute_result",
          "data": {
            "text/plain": [
              "[<matplotlib.lines.Line2D at 0x7f059398dfd0>]"
            ]
          },
          "metadata": {},
          "execution_count": 9
        },
        {
          "output_type": "display_data",
          "data": {
            "text/plain": [
              "<Figure size 432x288 with 1 Axes>"
            ],
            "image/png": "[encoded data removed]"
          },
          "metadata": {
            "needs_background": "light"
          }
        }
      ]
    },
    {
      "cell_type": "markdown",
      "source": [
        "#Preprocessing\n",
        "As discussed in lab4, data needs to be normalized between ranges for [-1,1] for machine learning to work well."
      ],
      "metadata": {
        "id": "SqIDw1WLjjHg"
      }
    },
    {
      "cell_type": "code",
      "source": [
        "# Split the data into training and test data\n",
        "train_size = int(len(df_close)*0.8)\n",
        "test_size = len(df_close)-train_size\n",
        "train_split,test_split = df_close[0:train_size], df_close[train_size:len(df_close)]\n",
        "\n",
        "# Apply Normalization to both\n",
        "#scaler = MinMaxScaler(feature_range=(0,1))\n",
        "scaler = StandardScaler()\n",
        "train_data, test_data = scaler.fit_transform(np.array(train_split).reshape(-1,1)), scaler.fit_transform(np.array(test_split).reshape(-1,1))"
      ],
      "metadata": {
        "id": "z1q8g3pIjgMO"
      },
      "execution_count": null,
      "outputs": []
    },
    {
      "cell_type": "code",
      "source": [
        "train_data.shape, test_data.shape"
      ],
      "metadata": {
        "colab": {
          "base_uri": "https://localhost:8080/"
        },
        "id": "Mgk-l2I5oFX6",
        "outputId": "52cb780c-25ff-4f35-de1d-5967d8e130dc"
      },
      "execution_count": null,
      "outputs": [
        {
          "output_type": "execute_result",
          "data": {
            "text/plain": [
              "((1007, 1), (252, 1))"
            ]
          },
          "metadata": {},
          "execution_count": 11
        }
      ]
    },
    {
      "cell_type": "markdown",
      "source": [
        "Next we need to convert array into useable dataset. Method to create dataset matrix taken from: https://machinelearningmastery.com/time-series-prediction-with-deep-learning-in-python-with-keras/"
      ],
      "metadata": {
        "id": "R1L8MZTepn30"
      }
    },
    {
      "cell_type": "code",
      "source": [
        "def create_dataset(dataset, look_back=1):\n",
        "\tdataX, dataY = [], []\n",
        "\tfor i in range(len(dataset)-look_back-1):\n",
        "\t\ta = dataset[i:(i+look_back), 0]\n",
        "\t\tdataX.append(a)\n",
        "\t\tdataY.append(dataset[i + look_back, 0])\n",
        "\treturn np.array(dataX), np.array(dataY)"
      ],
      "metadata": {
        "id": "u63Ye_9vrqut"
      },
      "execution_count": null,
      "outputs": []
    },
    {
      "cell_type": "code",
      "source": [
        "# Use function to convert data into matrix\n",
        "step = 100\n",
        "x_train , y_train = create_dataset(train_data, step)\n",
        "x_test, y_test = create_dataset(test_data, step)\n",
        "\n",
        "print(x_train.shape), print(y_train.shape)\n",
        "print(x_test.shape), print(y_test.shape)"
      ],
      "metadata": {
        "colab": {
          "base_uri": "https://localhost:8080/"
        },
        "id": "sexxNJILsZla",
        "outputId": "9181207d-0a8b-4de9-ba54-eece4355ee51"
      },
      "execution_count": null,
      "outputs": [
        {
          "output_type": "stream",
          "name": "stdout",
          "text": [
            "(906, 100)\n",
            "(906,)\n",
            "(151, 100)\n",
            "(151,)\n"
          ]
        },
        {
          "output_type": "execute_result",
          "data": {
            "text/plain": [
              "(None, None)"
            ]
          },
          "metadata": {},
          "execution_count": 13
        }
      ]
    },
    {
      "cell_type": "code",
      "source": [
        "# Next data needs to be reshaped to fit LSTM. \n",
        "x_train = x_train.reshape(x_train.shape[0], x_train.shape[1], 1)\n",
        "x_test = x_test.reshape(x_test.shape[0], x_test.shape[1], 1)"
      ],
      "metadata": {
        "id": "kXJIB73Ms550"
      },
      "execution_count": null,
      "outputs": []
    },
    {
      "cell_type": "markdown",
      "source": [
        "#Create Model\n"
      ],
      "metadata": {
        "id": "NvBZ2hK_vSfh"
      }
    },
    {
      "cell_type": "code",
      "source": [
        "model = models.Sequential([\n",
        "    layers.Input(shape=(100,1)),\n",
        "    layers.LSTM(50, return_sequences=True),\n",
        "    layers.LSTM(50, return_sequences=True, recurrent_dropout=0.2),\n",
        "    layers.LSTM(50),\n",
        "    layers.Dropout(0.2),\n",
        "    layers.Dense(50),\n",
        "    layers.Dense(1),\n",
        "])"
      ],
      "metadata": {
        "id": "WkCmLl5Ivk_Y"
      },
      "execution_count": null,
      "outputs": []
    },
    {
      "cell_type": "code",
      "source": [
        "model.compile(\n",
        "    loss = losses.MeanSquaredError(),\n",
        "    optimizer = optimizers.Adam(),\n",
        "    metrics = ['mean_squared_error'],\n",
        ")\n",
        "model.summary()"
      ],
      "metadata": {
        "colab": {
          "base_uri": "https://localhost:8080/"
        },
        "id": "Q9Dqr2pKydZP",
        "outputId": "18dd79c4-60c4-46ba-ecab-e64e786af872"
      },
      "execution_count": null,
      "outputs": [
        {
          "output_type": "stream",
          "name": "stdout",
          "text": [
            "Model: \"sequential\"\n",
            "_________________________________________________________________\n",
            " Layer (type)                Output Shape              Param #   \n",
            "=================================================================\n",
            " lstm (LSTM)                 (None, 100, 50)           10400     \n",
            "                                                                 \n",
            " lstm_1 (LSTM)               (None, 100, 50)           20200     \n",
            "                                                                 \n",
            " lstm_2 (LSTM)               (None, 50)                20200     \n",
            "                                                                 \n",
            " dropout (Dropout)           (None, 50)                0         \n",
            "                                                                 \n",
            " dense (Dense)               (None, 50)                2550      \n",
            "                                                                 \n",
            " dense_1 (Dense)             (None, 1)                 51        \n",
            "                                                                 \n",
            "=================================================================\n",
            "Total params: 53,401\n",
            "Trainable params: 53,401\n",
            "Non-trainable params: 0\n",
            "_________________________________________________________________\n"
          ]
        }
      ]
    },
    {
      "cell_type": "code",
      "source": [
        "model.fit(x_train, y_train, batch_size=64, epochs=200, verbose=2)"
      ],
      "metadata": {
        "colab": {
          "base_uri": "https://localhost:8080/"
        },
        "id": "KFMI6Fv5yyOL",
        "outputId": "9b25640b-5b1d-4bde-8174-7538af2dbbb4"
      },
      "execution_count": null,
      "outputs": [
        {
          "output_type": "stream",
          "name": "stdout",
          "text": [
            "Epoch 1/200\n",
            "15/15 - 13s - loss: 0.6533 - mean_squared_error: 0.6533 - 13s/epoch - 842ms/step\n",
            "Epoch 2/200\n",
            "15/15 - 3s - loss: 0.3380 - mean_squared_error: 0.3380 - 3s/epoch - 219ms/step\n",
            "Epoch 3/200\n",
            "15/15 - 3s - loss: 0.2634 - mean_squared_error: 0.2634 - 3s/epoch - 219ms/step\n",
            "Epoch 4/200\n",
            "15/15 - 3s - loss: 0.1940 - mean_squared_error: 0.1940 - 3s/epoch - 218ms/step\n",
            "Epoch 5/200\n",
            "15/15 - 3s - loss: 0.1724 - mean_squared_error: 0.1724 - 3s/epoch - 216ms/step\n",
            "Epoch 6/200\n",
            "15/15 - 3s - loss: 0.1559 - mean_squared_error: 0.1559 - 3s/epoch - 217ms/step\n",
            "Epoch 7/200\n",
            "15/15 - 3s - loss: 0.1564 - mean_squared_error: 0.1564 - 3s/epoch - 219ms/step\n",
            "Epoch 8/200\n",
            "15/15 - 3s - loss: 0.1454 - mean_squared_error: 0.1454 - 3s/epoch - 219ms/step\n",
            "Epoch 9/200\n",
            "15/15 - 3s - loss: 0.1736 - mean_squared_error: 0.1736 - 3s/epoch - 218ms/step\n",
            "Epoch 10/200\n",
            "15/15 - 3s - loss: 0.1211 - mean_squared_error: 0.1211 - 3s/epoch - 218ms/step\n",
            "Epoch 11/200\n",
            "15/15 - 3s - loss: 0.1105 - mean_squared_error: 0.1105 - 3s/epoch - 219ms/step\n",
            "Epoch 12/200\n",
            "15/15 - 3s - loss: 0.1032 - mean_squared_error: 0.1032 - 3s/epoch - 218ms/step\n",
            "Epoch 13/200\n",
            "15/15 - 3s - loss: 0.1078 - mean_squared_error: 0.1078 - 3s/epoch - 220ms/step\n",
            "Epoch 14/200\n",
            "15/15 - 3s - loss: 0.1083 - mean_squared_error: 0.1083 - 3s/epoch - 219ms/step\n",
            "Epoch 15/200\n",
            "15/15 - 3s - loss: 0.1257 - mean_squared_error: 0.1257 - 3s/epoch - 216ms/step\n",
            "Epoch 16/200\n",
            "15/15 - 3s - loss: 0.1069 - mean_squared_error: 0.1069 - 3s/epoch - 215ms/step\n",
            "Epoch 17/200\n",
            "15/15 - 3s - loss: 0.1079 - mean_squared_error: 0.1079 - 3s/epoch - 215ms/step\n",
            "Epoch 18/200\n",
            "15/15 - 3s - loss: 0.0903 - mean_squared_error: 0.0903 - 3s/epoch - 219ms/step\n",
            "Epoch 19/200\n",
            "15/15 - 3s - loss: 0.0992 - mean_squared_error: 0.0992 - 3s/epoch - 219ms/step\n",
            "Epoch 20/200\n",
            "15/15 - 3s - loss: 0.0986 - mean_squared_error: 0.0986 - 3s/epoch - 218ms/step\n",
            "Epoch 21/200\n",
            "15/15 - 3s - loss: 0.1170 - mean_squared_error: 0.1170 - 3s/epoch - 219ms/step\n",
            "Epoch 22/200\n",
            "15/15 - 3s - loss: 0.1045 - mean_squared_error: 0.1045 - 3s/epoch - 218ms/step\n",
            "Epoch 23/200\n",
            "15/15 - 4s - loss: 0.0935 - mean_squared_error: 0.0935 - 4s/epoch - 253ms/step\n",
            "Epoch 24/200\n",
            "15/15 - 3s - loss: 0.0887 - mean_squared_error: 0.0887 - 3s/epoch - 217ms/step\n",
            "Epoch 25/200\n",
            "15/15 - 3s - loss: 0.0896 - mean_squared_error: 0.0896 - 3s/epoch - 220ms/step\n",
            "Epoch 26/200\n",
            "15/15 - 4s - loss: 0.0903 - mean_squared_error: 0.0903 - 4s/epoch - 250ms/step\n",
            "Epoch 27/200\n",
            "15/15 - 3s - loss: 0.0941 - mean_squared_error: 0.0941 - 3s/epoch - 223ms/step\n",
            "Epoch 28/200\n",
            "15/15 - 3s - loss: 0.0668 - mean_squared_error: 0.0668 - 3s/epoch - 231ms/step\n",
            "Epoch 29/200\n",
            "15/15 - 3s - loss: 0.0950 - mean_squared_error: 0.0950 - 3s/epoch - 229ms/step\n",
            "Epoch 30/200\n",
            "15/15 - 3s - loss: 0.0906 - mean_squared_error: 0.0906 - 3s/epoch - 223ms/step\n",
            "Epoch 31/200\n",
            "15/15 - 3s - loss: 0.1345 - mean_squared_error: 0.1345 - 3s/epoch - 218ms/step\n",
            "Epoch 32/200\n",
            "15/15 - 3s - loss: 0.1198 - mean_squared_error: 0.1198 - 3s/epoch - 218ms/step\n",
            "Epoch 33/200\n",
            "15/15 - 3s - loss: 0.1129 - mean_squared_error: 0.1129 - 3s/epoch - 219ms/step\n",
            "Epoch 34/200\n",
            "15/15 - 3s - loss: 0.1065 - mean_squared_error: 0.1065 - 3s/epoch - 219ms/step\n",
            "Epoch 35/200\n",
            "15/15 - 3s - loss: 0.0817 - mean_squared_error: 0.0817 - 3s/epoch - 219ms/step\n",
            "Epoch 36/200\n",
            "15/15 - 4s - loss: 0.1093 - mean_squared_error: 0.1093 - 4s/epoch - 251ms/step\n",
            "Epoch 37/200\n",
            "15/15 - 3s - loss: 0.0815 - mean_squared_error: 0.0815 - 3s/epoch - 218ms/step\n",
            "Epoch 38/200\n",
            "15/15 - 3s - loss: 0.0872 - mean_squared_error: 0.0872 - 3s/epoch - 218ms/step\n",
            "Epoch 39/200\n",
            "15/15 - 3s - loss: 0.0707 - mean_squared_error: 0.0707 - 3s/epoch - 221ms/step\n",
            "Epoch 40/200\n",
            "15/15 - 3s - loss: 0.0816 - mean_squared_error: 0.0816 - 3s/epoch - 218ms/step\n",
            "Epoch 41/200\n",
            "15/15 - 3s - loss: 0.0787 - mean_squared_error: 0.0787 - 3s/epoch - 217ms/step\n",
            "Epoch 42/200\n",
            "15/15 - 3s - loss: 0.0704 - mean_squared_error: 0.0704 - 3s/epoch - 221ms/step\n",
            "Epoch 43/200\n",
            "15/15 - 3s - loss: 0.0888 - mean_squared_error: 0.0888 - 3s/epoch - 220ms/step\n",
            "Epoch 44/200\n",
            "15/15 - 3s - loss: 0.1053 - mean_squared_error: 0.1053 - 3s/epoch - 218ms/step\n",
            "Epoch 45/200\n",
            "15/15 - 3s - loss: 0.0715 - mean_squared_error: 0.0715 - 3s/epoch - 219ms/step\n",
            "Epoch 46/200\n",
            "15/15 - 3s - loss: 0.0852 - mean_squared_error: 0.0852 - 3s/epoch - 219ms/step\n",
            "Epoch 47/200\n",
            "15/15 - 3s - loss: 0.1032 - mean_squared_error: 0.1032 - 3s/epoch - 220ms/step\n",
            "Epoch 48/200\n",
            "15/15 - 3s - loss: 0.0805 - mean_squared_error: 0.0805 - 3s/epoch - 221ms/step\n",
            "Epoch 49/200\n",
            "15/15 - 3s - loss: 0.0823 - mean_squared_error: 0.0823 - 3s/epoch - 221ms/step\n",
            "Epoch 50/200\n",
            "15/15 - 3s - loss: 0.0882 - mean_squared_error: 0.0882 - 3s/epoch - 219ms/step\n",
            "Epoch 51/200\n",
            "15/15 - 3s - loss: 0.1050 - mean_squared_error: 0.1050 - 3s/epoch - 221ms/step\n",
            "Epoch 52/200\n",
            "15/15 - 3s - loss: 0.0952 - mean_squared_error: 0.0952 - 3s/epoch - 218ms/step\n",
            "Epoch 53/200\n",
            "15/15 - 3s - loss: 0.0734 - mean_squared_error: 0.0734 - 3s/epoch - 218ms/step\n",
            "Epoch 54/200\n",
            "15/15 - 3s - loss: 0.1336 - mean_squared_error: 0.1336 - 3s/epoch - 217ms/step\n",
            "Epoch 55/200\n",
            "15/15 - 4s - loss: 0.1158 - mean_squared_error: 0.1158 - 4s/epoch - 252ms/step\n",
            "Epoch 56/200\n",
            "15/15 - 3s - loss: 0.1021 - mean_squared_error: 0.1021 - 3s/epoch - 219ms/step\n",
            "Epoch 57/200\n",
            "15/15 - 3s - loss: 0.0889 - mean_squared_error: 0.0889 - 3s/epoch - 219ms/step\n",
            "Epoch 58/200\n",
            "15/15 - 3s - loss: 0.0704 - mean_squared_error: 0.0704 - 3s/epoch - 217ms/step\n",
            "Epoch 59/200\n",
            "15/15 - 3s - loss: 0.0824 - mean_squared_error: 0.0824 - 3s/epoch - 217ms/step\n",
            "Epoch 60/200\n",
            "15/15 - 4s - loss: 0.0671 - mean_squared_error: 0.0671 - 4s/epoch - 250ms/step\n",
            "Epoch 61/200\n",
            "15/15 - 3s - loss: 0.0741 - mean_squared_error: 0.0741 - 3s/epoch - 220ms/step\n",
            "Epoch 62/200\n",
            "15/15 - 3s - loss: 0.0688 - mean_squared_error: 0.0688 - 3s/epoch - 218ms/step\n",
            "Epoch 63/200\n",
            "15/15 - 3s - loss: 0.0705 - mean_squared_error: 0.0705 - 3s/epoch - 220ms/step\n",
            "Epoch 64/200\n",
            "15/15 - 3s - loss: 0.0755 - mean_squared_error: 0.0755 - 3s/epoch - 218ms/step\n",
            "Epoch 65/200\n",
            "15/15 - 3s - loss: 0.0696 - mean_squared_error: 0.0696 - 3s/epoch - 218ms/step\n",
            "Epoch 66/200\n",
            "15/15 - 3s - loss: 0.0646 - mean_squared_error: 0.0646 - 3s/epoch - 217ms/step\n",
            "Epoch 67/200\n",
            "15/15 - 3s - loss: 0.0555 - mean_squared_error: 0.0555 - 3s/epoch - 218ms/step\n",
            "Epoch 68/200\n",
            "15/15 - 3s - loss: 0.0677 - mean_squared_error: 0.0677 - 3s/epoch - 218ms/step\n",
            "Epoch 69/200\n",
            "15/15 - 3s - loss: 0.0966 - mean_squared_error: 0.0966 - 3s/epoch - 216ms/step\n",
            "Epoch 70/200\n",
            "15/15 - 3s - loss: 0.0632 - mean_squared_error: 0.0632 - 3s/epoch - 216ms/step\n",
            "Epoch 71/200\n",
            "15/15 - 3s - loss: 0.0628 - mean_squared_error: 0.0628 - 3s/epoch - 218ms/step\n",
            "Epoch 72/200\n",
            "15/15 - 3s - loss: 0.0698 - mean_squared_error: 0.0698 - 3s/epoch - 222ms/step\n",
            "Epoch 73/200\n",
            "15/15 - 3s - loss: 0.0863 - mean_squared_error: 0.0863 - 3s/epoch - 225ms/step\n",
            "Epoch 74/200\n",
            "15/15 - 3s - loss: 0.0694 - mean_squared_error: 0.0694 - 3s/epoch - 219ms/step\n",
            "Epoch 75/200\n",
            "15/15 - 3s - loss: 0.0650 - mean_squared_error: 0.0650 - 3s/epoch - 221ms/step\n",
            "Epoch 76/200\n",
            "15/15 - 3s - loss: 0.0725 - mean_squared_error: 0.0725 - 3s/epoch - 220ms/step\n",
            "Epoch 77/200\n",
            "15/15 - 3s - loss: 0.0738 - mean_squared_error: 0.0738 - 3s/epoch - 219ms/step\n",
            "Epoch 78/200\n",
            "15/15 - 3s - loss: 0.0744 - mean_squared_error: 0.0744 - 3s/epoch - 218ms/step\n",
            "Epoch 79/200\n",
            "15/15 - 3s - loss: 0.0660 - mean_squared_error: 0.0660 - 3s/epoch - 220ms/step\n",
            "Epoch 80/200\n",
            "15/15 - 3s - loss: 0.0554 - mean_squared_error: 0.0554 - 3s/epoch - 218ms/step\n",
            "Epoch 81/200\n",
            "15/15 - 3s - loss: 0.0572 - mean_squared_error: 0.0572 - 3s/epoch - 223ms/step\n",
            "Epoch 82/200\n",
            "15/15 - 3s - loss: 0.0702 - mean_squared_error: 0.0702 - 3s/epoch - 220ms/step\n",
            "Epoch 83/200\n",
            "15/15 - 3s - loss: 0.0660 - mean_squared_error: 0.0660 - 3s/epoch - 221ms/step\n",
            "Epoch 84/200\n",
            "15/15 - 3s - loss: 0.0534 - mean_squared_error: 0.0534 - 3s/epoch - 221ms/step\n",
            "Epoch 85/200\n",
            "15/15 - 3s - loss: 0.0631 - mean_squared_error: 0.0631 - 3s/epoch - 220ms/step\n",
            "Epoch 86/200\n",
            "15/15 - 3s - loss: 0.0575 - mean_squared_error: 0.0575 - 3s/epoch - 223ms/step\n",
            "Epoch 87/200\n",
            "15/15 - 3s - loss: 0.0560 - mean_squared_error: 0.0560 - 3s/epoch - 226ms/step\n",
            "Epoch 88/200\n",
            "15/15 - 3s - loss: 0.0476 - mean_squared_error: 0.0476 - 3s/epoch - 226ms/step\n",
            "Epoch 89/200\n",
            "15/15 - 3s - loss: 0.0586 - mean_squared_error: 0.0586 - 3s/epoch - 218ms/step\n",
            "Epoch 90/200\n",
            "15/15 - 3s - loss: 0.0550 - mean_squared_error: 0.0550 - 3s/epoch - 219ms/step\n",
            "Epoch 91/200\n",
            "15/15 - 3s - loss: 0.0513 - mean_squared_error: 0.0513 - 3s/epoch - 220ms/step\n",
            "Epoch 92/200\n",
            "15/15 - 3s - loss: 0.0599 - mean_squared_error: 0.0599 - 3s/epoch - 221ms/step\n",
            "Epoch 93/200\n",
            "15/15 - 3s - loss: 0.0488 - mean_squared_error: 0.0488 - 3s/epoch - 219ms/step\n",
            "Epoch 94/200\n",
            "15/15 - 3s - loss: 0.0707 - mean_squared_error: 0.0707 - 3s/epoch - 219ms/step\n",
            "Epoch 95/200\n",
            "15/15 - 3s - loss: 0.0984 - mean_squared_error: 0.0984 - 3s/epoch - 219ms/step\n",
            "Epoch 96/200\n",
            "15/15 - 3s - loss: 0.0572 - mean_squared_error: 0.0572 - 3s/epoch - 218ms/step\n",
            "Epoch 97/200\n",
            "15/15 - 3s - loss: 0.0593 - mean_squared_error: 0.0593 - 3s/epoch - 219ms/step\n",
            "Epoch 98/200\n",
            "15/15 - 3s - loss: 0.0626 - mean_squared_error: 0.0626 - 3s/epoch - 219ms/step\n",
            "Epoch 99/200\n",
            "15/15 - 3s - loss: 0.0685 - mean_squared_error: 0.0685 - 3s/epoch - 219ms/step\n",
            "Epoch 100/200\n",
            "15/15 - 3s - loss: 0.0609 - mean_squared_error: 0.0609 - 3s/epoch - 218ms/step\n",
            "Epoch 101/200\n",
            "15/15 - 3s - loss: 0.0494 - mean_squared_error: 0.0494 - 3s/epoch - 219ms/step\n",
            "Epoch 102/200\n",
            "15/15 - 3s - loss: 0.0786 - mean_squared_error: 0.0786 - 3s/epoch - 224ms/step\n",
            "Epoch 103/200\n",
            "15/15 - 3s - loss: 0.0703 - mean_squared_error: 0.0703 - 3s/epoch - 224ms/step\n",
            "Epoch 104/200\n",
            "15/15 - 3s - loss: 0.0514 - mean_squared_error: 0.0514 - 3s/epoch - 227ms/step\n",
            "Epoch 105/200\n",
            "15/15 - 3s - loss: 0.0468 - mean_squared_error: 0.0468 - 3s/epoch - 219ms/step\n",
            "Epoch 106/200\n",
            "15/15 - 3s - loss: 0.0484 - mean_squared_error: 0.0484 - 3s/epoch - 217ms/step\n",
            "Epoch 107/200\n",
            "15/15 - 3s - loss: 0.0561 - mean_squared_error: 0.0561 - 3s/epoch - 218ms/step\n",
            "Epoch 108/200\n",
            "15/15 - 3s - loss: 0.0531 - mean_squared_error: 0.0531 - 3s/epoch - 217ms/step\n",
            "Epoch 109/200\n",
            "15/15 - 3s - loss: 0.0514 - mean_squared_error: 0.0514 - 3s/epoch - 218ms/step\n",
            "Epoch 110/200\n",
            "15/15 - 3s - loss: 0.0507 - mean_squared_error: 0.0507 - 3s/epoch - 219ms/step\n",
            "Epoch 111/200\n",
            "15/15 - 3s - loss: 0.0531 - mean_squared_error: 0.0531 - 3s/epoch - 220ms/step\n",
            "Epoch 112/200\n",
            "15/15 - 3s - loss: 0.0472 - mean_squared_error: 0.0472 - 3s/epoch - 218ms/step\n",
            "Epoch 113/200\n",
            "15/15 - 3s - loss: 0.0706 - mean_squared_error: 0.0706 - 3s/epoch - 220ms/step\n",
            "Epoch 114/200\n",
            "15/15 - 3s - loss: 0.0547 - mean_squared_error: 0.0547 - 3s/epoch - 220ms/step\n",
            "Epoch 115/200\n",
            "15/15 - 3s - loss: 0.0567 - mean_squared_error: 0.0567 - 3s/epoch - 221ms/step\n",
            "Epoch 116/200\n",
            "15/15 - 3s - loss: 0.0712 - mean_squared_error: 0.0712 - 3s/epoch - 220ms/step\n",
            "Epoch 117/200\n",
            "15/15 - 3s - loss: 0.0471 - mean_squared_error: 0.0471 - 3s/epoch - 219ms/step\n",
            "Epoch 118/200\n",
            "15/15 - 3s - loss: 0.0541 - mean_squared_error: 0.0541 - 3s/epoch - 220ms/step\n",
            "Epoch 119/200\n",
            "15/15 - 3s - loss: 0.0391 - mean_squared_error: 0.0391 - 3s/epoch - 218ms/step\n",
            "Epoch 120/200\n",
            "15/15 - 3s - loss: 0.0467 - mean_squared_error: 0.0467 - 3s/epoch - 223ms/step\n",
            "Epoch 121/200\n",
            "15/15 - 3s - loss: 0.0464 - mean_squared_error: 0.0464 - 3s/epoch - 216ms/step\n",
            "Epoch 122/200\n",
            "15/15 - 3s - loss: 0.0502 - mean_squared_error: 0.0502 - 3s/epoch - 219ms/step\n",
            "Epoch 123/200\n",
            "15/15 - 3s - loss: 0.0514 - mean_squared_error: 0.0514 - 3s/epoch - 221ms/step\n",
            "Epoch 124/200\n",
            "15/15 - 3s - loss: 0.0551 - mean_squared_error: 0.0551 - 3s/epoch - 221ms/step\n",
            "Epoch 125/200\n",
            "15/15 - 3s - loss: 0.0560 - mean_squared_error: 0.0560 - 3s/epoch - 219ms/step\n",
            "Epoch 126/200\n",
            "15/15 - 3s - loss: 0.0383 - mean_squared_error: 0.0383 - 3s/epoch - 221ms/step\n",
            "Epoch 127/200\n",
            "15/15 - 3s - loss: 0.0429 - mean_squared_error: 0.0429 - 3s/epoch - 219ms/step\n",
            "Epoch 128/200\n",
            "15/15 - 3s - loss: 0.0423 - mean_squared_error: 0.0423 - 3s/epoch - 218ms/step\n",
            "Epoch 129/200\n",
            "15/15 - 3s - loss: 0.0618 - mean_squared_error: 0.0618 - 3s/epoch - 220ms/step\n",
            "Epoch 130/200\n",
            "15/15 - 3s - loss: 0.0419 - mean_squared_error: 0.0419 - 3s/epoch - 216ms/step\n",
            "Epoch 131/200\n",
            "15/15 - 3s - loss: 0.0434 - mean_squared_error: 0.0434 - 3s/epoch - 220ms/step\n",
            "Epoch 132/200\n",
            "15/15 - 3s - loss: 0.0444 - mean_squared_error: 0.0444 - 3s/epoch - 217ms/step\n",
            "Epoch 133/200\n",
            "15/15 - 3s - loss: 0.0310 - mean_squared_error: 0.0310 - 3s/epoch - 219ms/step\n",
            "Epoch 134/200\n",
            "15/15 - 3s - loss: 0.0604 - mean_squared_error: 0.0604 - 3s/epoch - 222ms/step\n",
            "Epoch 135/200\n",
            "15/15 - 3s - loss: 0.0406 - mean_squared_error: 0.0406 - 3s/epoch - 224ms/step\n",
            "Epoch 136/200\n",
            "15/15 - 3s - loss: 0.0452 - mean_squared_error: 0.0452 - 3s/epoch - 220ms/step\n",
            "Epoch 137/200\n",
            "15/15 - 3s - loss: 0.0488 - mean_squared_error: 0.0488 - 3s/epoch - 218ms/step\n",
            "Epoch 138/200\n",
            "15/15 - 3s - loss: 0.0474 - mean_squared_error: 0.0474 - 3s/epoch - 219ms/step\n",
            "Epoch 139/200\n",
            "15/15 - 3s - loss: 0.0334 - mean_squared_error: 0.0334 - 3s/epoch - 219ms/step\n",
            "Epoch 140/200\n",
            "15/15 - 3s - loss: 0.0467 - mean_squared_error: 0.0467 - 3s/epoch - 219ms/step\n",
            "Epoch 141/200\n",
            "15/15 - 3s - loss: 0.0494 - mean_squared_error: 0.0494 - 3s/epoch - 219ms/step\n",
            "Epoch 142/200\n",
            "15/15 - 3s - loss: 0.0634 - mean_squared_error: 0.0634 - 3s/epoch - 217ms/step\n",
            "Epoch 143/200\n",
            "15/15 - 3s - loss: 0.0355 - mean_squared_error: 0.0355 - 3s/epoch - 218ms/step\n",
            "Epoch 144/200\n",
            "15/15 - 3s - loss: 0.0579 - mean_squared_error: 0.0579 - 3s/epoch - 218ms/step\n",
            "Epoch 145/200\n",
            "15/15 - 3s - loss: 0.0548 - mean_squared_error: 0.0548 - 3s/epoch - 216ms/step\n",
            "Epoch 146/200\n",
            "15/15 - 3s - loss: 0.0512 - mean_squared_error: 0.0512 - 3s/epoch - 218ms/step\n",
            "Epoch 147/200\n",
            "15/15 - 3s - loss: 0.0537 - mean_squared_error: 0.0537 - 3s/epoch - 217ms/step\n",
            "Epoch 148/200\n",
            "15/15 - 3s - loss: 0.0712 - mean_squared_error: 0.0712 - 3s/epoch - 218ms/step\n",
            "Epoch 149/200\n",
            "15/15 - 3s - loss: 0.0522 - mean_squared_error: 0.0522 - 3s/epoch - 217ms/step\n",
            "Epoch 150/200\n",
            "15/15 - 3s - loss: 0.0472 - mean_squared_error: 0.0472 - 3s/epoch - 218ms/step\n",
            "Epoch 151/200\n",
            "15/15 - 3s - loss: 0.0429 - mean_squared_error: 0.0429 - 3s/epoch - 217ms/step\n",
            "Epoch 152/200\n",
            "15/15 - 3s - loss: 0.0344 - mean_squared_error: 0.0344 - 3s/epoch - 217ms/step\n",
            "Epoch 153/200\n",
            "15/15 - 3s - loss: 0.0389 - mean_squared_error: 0.0389 - 3s/epoch - 219ms/step\n",
            "Epoch 154/200\n",
            "15/15 - 3s - loss: 0.0336 - mean_squared_error: 0.0336 - 3s/epoch - 219ms/step\n",
            "Epoch 155/200\n",
            "15/15 - 3s - loss: 0.0308 - mean_squared_error: 0.0308 - 3s/epoch - 220ms/step\n",
            "Epoch 156/200\n",
            "15/15 - 3s - loss: 0.0378 - mean_squared_error: 0.0378 - 3s/epoch - 219ms/step\n",
            "Epoch 157/200\n",
            "15/15 - 3s - loss: 0.0537 - mean_squared_error: 0.0537 - 3s/epoch - 217ms/step\n",
            "Epoch 158/200\n",
            "15/15 - 3s - loss: 0.0564 - mean_squared_error: 0.0564 - 3s/epoch - 217ms/step\n",
            "Epoch 159/200\n",
            "15/15 - 3s - loss: 0.0566 - mean_squared_error: 0.0566 - 3s/epoch - 217ms/step\n",
            "Epoch 160/200\n",
            "15/15 - 3s - loss: 0.0479 - mean_squared_error: 0.0479 - 3s/epoch - 217ms/step\n",
            "Epoch 161/200\n",
            "15/15 - 3s - loss: 0.0384 - mean_squared_error: 0.0384 - 3s/epoch - 217ms/step\n",
            "Epoch 162/200\n",
            "15/15 - 3s - loss: 0.0451 - mean_squared_error: 0.0451 - 3s/epoch - 217ms/step\n",
            "Epoch 163/200\n",
            "15/15 - 3s - loss: 0.0327 - mean_squared_error: 0.0327 - 3s/epoch - 218ms/step\n",
            "Epoch 164/200\n",
            "15/15 - 3s - loss: 0.0342 - mean_squared_error: 0.0342 - 3s/epoch - 219ms/step\n",
            "Epoch 165/200\n",
            "15/15 - 3s - loss: 0.0300 - mean_squared_error: 0.0300 - 3s/epoch - 219ms/step\n",
            "Epoch 166/200\n",
            "15/15 - 3s - loss: 0.0397 - mean_squared_error: 0.0397 - 3s/epoch - 220ms/step\n",
            "Epoch 167/200\n",
            "15/15 - 3s - loss: 0.0340 - mean_squared_error: 0.0340 - 3s/epoch - 217ms/step\n",
            "Epoch 168/200\n",
            "15/15 - 3s - loss: 0.0608 - mean_squared_error: 0.0608 - 3s/epoch - 219ms/step\n",
            "Epoch 169/200\n",
            "15/15 - 3s - loss: 0.0537 - mean_squared_error: 0.0537 - 3s/epoch - 218ms/step\n",
            "Epoch 170/200\n",
            "15/15 - 3s - loss: 0.0558 - mean_squared_error: 0.0558 - 3s/epoch - 217ms/step\n",
            "Epoch 171/200\n",
            "15/15 - 3s - loss: 0.0366 - mean_squared_error: 0.0366 - 3s/epoch - 216ms/step\n",
            "Epoch 172/200\n",
            "15/15 - 3s - loss: 0.0306 - mean_squared_error: 0.0306 - 3s/epoch - 219ms/step\n",
            "Epoch 173/200\n",
            "15/15 - 3s - loss: 0.0263 - mean_squared_error: 0.0263 - 3s/epoch - 221ms/step\n",
            "Epoch 174/200\n",
            "15/15 - 3s - loss: 0.0288 - mean_squared_error: 0.0288 - 3s/epoch - 219ms/step\n",
            "Epoch 175/200\n",
            "15/15 - 3s - loss: 0.0305 - mean_squared_error: 0.0305 - 3s/epoch - 219ms/step\n",
            "Epoch 176/200\n",
            "15/15 - 3s - loss: 0.0272 - mean_squared_error: 0.0272 - 3s/epoch - 219ms/step\n",
            "Epoch 177/200\n",
            "15/15 - 3s - loss: 0.0286 - mean_squared_error: 0.0286 - 3s/epoch - 216ms/step\n",
            "Epoch 178/200\n",
            "15/15 - 3s - loss: 0.0253 - mean_squared_error: 0.0253 - 3s/epoch - 218ms/step\n",
            "Epoch 179/200\n",
            "15/15 - 3s - loss: 0.0348 - mean_squared_error: 0.0348 - 3s/epoch - 217ms/step\n",
            "Epoch 180/200\n",
            "15/15 - 3s - loss: 0.0332 - mean_squared_error: 0.0332 - 3s/epoch - 218ms/step\n",
            "Epoch 181/200\n",
            "15/15 - 3s - loss: 0.0480 - mean_squared_error: 0.0480 - 3s/epoch - 217ms/step\n",
            "Epoch 182/200\n",
            "15/15 - 3s - loss: 0.0767 - mean_squared_error: 0.0767 - 3s/epoch - 217ms/step\n",
            "Epoch 183/200\n",
            "15/15 - 3s - loss: 0.0424 - mean_squared_error: 0.0424 - 3s/epoch - 221ms/step\n",
            "Epoch 184/200\n",
            "15/15 - 3s - loss: 0.0424 - mean_squared_error: 0.0424 - 3s/epoch - 218ms/step\n",
            "Epoch 185/200\n",
            "15/15 - 3s - loss: 0.0537 - mean_squared_error: 0.0537 - 3s/epoch - 217ms/step\n",
            "Epoch 186/200\n",
            "15/15 - 3s - loss: 0.0337 - mean_squared_error: 0.0337 - 3s/epoch - 218ms/step\n",
            "Epoch 187/200\n",
            "15/15 - 3s - loss: 0.0297 - mean_squared_error: 0.0297 - 3s/epoch - 217ms/step\n",
            "Epoch 188/200\n",
            "15/15 - 3s - loss: 0.0309 - mean_squared_error: 0.0309 - 3s/epoch - 218ms/step\n",
            "Epoch 189/200\n",
            "15/15 - 3s - loss: 0.0284 - mean_squared_error: 0.0284 - 3s/epoch - 216ms/step\n",
            "Epoch 190/200\n",
            "15/15 - 3s - loss: 0.0316 - mean_squared_error: 0.0316 - 3s/epoch - 216ms/step\n",
            "Epoch 191/200\n",
            "15/15 - 3s - loss: 0.0315 - mean_squared_error: 0.0315 - 3s/epoch - 219ms/step\n",
            "Epoch 192/200\n",
            "15/15 - 3s - loss: 0.0271 - mean_squared_error: 0.0271 - 3s/epoch - 219ms/step\n",
            "Epoch 193/200\n",
            "15/15 - 3s - loss: 0.0328 - mean_squared_error: 0.0328 - 3s/epoch - 218ms/step\n",
            "Epoch 194/200\n",
            "15/15 - 3s - loss: 0.0305 - mean_squared_error: 0.0305 - 3s/epoch - 217ms/step\n",
            "Epoch 195/200\n",
            "15/15 - 3s - loss: 0.0261 - mean_squared_error: 0.0261 - 3s/epoch - 218ms/step\n",
            "Epoch 196/200\n",
            "15/15 - 3s - loss: 0.0330 - mean_squared_error: 0.0330 - 3s/epoch - 216ms/step\n",
            "Epoch 197/200\n",
            "15/15 - 3s - loss: 0.0289 - mean_squared_error: 0.0289 - 3s/epoch - 217ms/step\n",
            "Epoch 198/200\n",
            "15/15 - 3s - loss: 0.0363 - mean_squared_error: 0.0363 - 3s/epoch - 215ms/step\n",
            "Epoch 199/200\n",
            "15/15 - 3s - loss: 0.0371 - mean_squared_error: 0.0371 - 3s/epoch - 217ms/step\n",
            "Epoch 200/200\n",
            "15/15 - 3s - loss: 0.1143 - mean_squared_error: 0.1143 - 3s/epoch - 217ms/step\n"
          ]
        },
        {
          "output_type": "execute_result",
          "data": {
            "text/plain": [
              "<keras.callbacks.History at 0x7f058f37d690>"
            ]
          },
          "metadata": {},
          "execution_count": 17
        }
      ]
    },
    {
      "cell_type": "code",
      "source": [
        ""
      ],
      "metadata": {
        "id": "bpmPSgSQX2kF"
      },
      "execution_count": null,
      "outputs": []
    },
    {
      "cell_type": "markdown",
      "source": [
        "#Performance\n",
        "Next we evaluate model performance"
      ],
      "metadata": {
        "id": "KdmYbfv765Ge"
      }
    },
    {
      "cell_type": "code",
      "source": [
        "# First we make the predictions\n",
        "train_predict = model.predict(x_train)\n",
        "test_predict = model.predict(x_test)\n",
        "\n",
        "# Next we use inverse_transform to undo the scaling performed earlier\n",
        "train_predict = scaler.inverse_transform(train_predict)\n",
        "test_predict = scaler.inverse_transform(test_predict)\n"
      ],
      "metadata": {
        "id": "OSjc_XCeGezR"
      },
      "execution_count": null,
      "outputs": []
    },
    {
      "cell_type": "code",
      "source": [
        "import math\n",
        "_, mse_train = model.evaluate(x_train, y_train)\n",
        "print(\"MSE: %.2f RMSE: %.2f\" % (mse_train, math.sqrt(mse_train)))"
      ],
      "metadata": {
        "colab": {
          "base_uri": "https://localhost:8080/"
        },
        "id": "fJMESKtjPn5R",
        "outputId": "64f3abcd-7615-4a1f-bc79-b9847bbf48cf"
      },
      "execution_count": null,
      "outputs": [
        {
          "output_type": "stream",
          "name": "stdout",
          "text": [
            "29/29 [==============================] - 2s 38ms/step - loss: 0.1061 - mean_squared_error: 0.1061\n",
            "MSE: 0.11 RMSE: 0.33\n"
          ]
        }
      ]
    },
    {
      "cell_type": "code",
      "source": [
        "_, mse_test = model.evaluate(x_test, y_test)\n",
        "print(\"MSE: %.2f RMSE: %.2f\" % (mse_test, math.sqrt(mse_test)))"
      ],
      "metadata": {
        "colab": {
          "base_uri": "https://localhost:8080/"
        },
        "id": "luU0fRgm24Zp",
        "outputId": "d1bd85d0-754e-4446-d73f-b162a929622b"
      },
      "execution_count": null,
      "outputs": [
        {
          "output_type": "stream",
          "name": "stdout",
          "text": [
            "5/5 [==============================] - 0s 43ms/step - loss: 0.1369 - mean_squared_error: 0.1369\n",
            "MSE: 0.14 RMSE: 0.37\n"
          ]
        }
      ]
    },
    {
      "cell_type": "code",
      "source": [
        "# shift train predictions for plotting\n",
        "trainPredictPlot = np.empty_like(np.array(df_close)[:, np.newaxis])\n",
        "trainPredictPlot[:, :] = np.nan\n",
        "trainPredictPlot[step:len(train_predict)+step, :] = train_predict-440\n",
        "# shift test predictions for plotting\n",
        "testPredictPlot = np.empty_like(np.array(df_close)[:, np.newaxis])\n",
        "testPredictPlot[:, :] = np.nan\n",
        "testPredictPlot[len(train_predict)+(step*2)+1:len(df_close)-1, :] = test_predict\n",
        "# plot baseline and predictions\n",
        "\n",
        "\n",
        "pl.plot(df_close, \"-b\", label=\"Entire Data Set\")\n",
        "pl.plot(trainPredictPlot, \"-g\", label=\"Training\")\n",
        "pl.plot(testPredictPlot, \"-r\", label=\"Predictions\")\n",
        "pl.legend(loc=\"upper left\")\n",
        "pl.show()"
      ],
      "metadata": {
        "colab": {
          "base_uri": "https://localhost:8080/",
          "height": 265
        },
        "id": "-ekZXbZg9otn",
        "outputId": "a974dc3d-efa2-4352-85e3-1bba888d3921"
      },
      "execution_count": null,
      "outputs": [
        {
          "output_type": "display_data",
          "data": {
            "text/plain": [
              "<Figure size 432x288 with 1 Axes>"
            ],
            "image/png": "[encoded data removed]"
          },
          "metadata": {
            "needs_background": "light"
          }
        }
      ]
    },
    {
      "cell_type": "markdown",
      "source": [
        ""
      ],
      "metadata": {
        "id": "T8dY-cOHS3xM"
      }
    },
    {
      "cell_type": "code",
      "source": [
        ""
      ],
      "metadata": {
        "id": "NhGJj7fEODoO"
      },
      "execution_count": null,
      "outputs": []
    }
  ]
}